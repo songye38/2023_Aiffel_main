{
 "cells": [
  {
   "cell_type": "markdown",
   "id": "bb23d465",
   "metadata": {},
   "source": [
    "# 9-2. 파이썬으로 그래프를 그린다는건?"
   ]
  },
  {
   "cell_type": "code",
   "execution_count": 1,
   "id": "cc95c2bf",
   "metadata": {},
   "outputs": [
    {
     "data": {
      "image/png": "[encoded data removed]",
      "text/plain": [
       "<Figure size 432x288 with 1 Axes>"
      ]
     },
     "metadata": {
      "needs_background": "light"
     },
     "output_type": "display_data"
    }
   ],
   "source": [
    "import matplotlib.pyplot as plt\n",
    "%matplotlib inline\n",
    "\n",
    "# 그래프 데이터 \n",
    "subject = ['English', 'Math', 'Korean', 'Science', 'Computer']\n",
    "points = [40, 90, 50, 60, 100]\n",
    "\n",
    "fig = plt.figure()\n",
    "ax1 = fig.add_subplot(1,1,1)\n",
    "\n",
    "ax1.bar(subject,points)\n",
    "\n",
    "plt.xlabel('Subject')\n",
    "plt.ylabel('Points')\n",
    "plt.title('Yuna\"s Test Result')\n",
    "\n",
    "plt.savefig('./barplot.png')\n",
    "plt.show()"
   ]
  },
  {
   "cell_type": "markdown",
   "id": "ed01594b",
   "metadata": {},
   "source": [
    "# 9-3. 간단한 그래프 그리기 (1) 막대그래프 그려보기"
   ]
  },
  {
   "cell_type": "code",
   "execution_count": null,
   "id": "bf6016f4",
   "metadata": {},
   "outputs": [],
   "source": []
  },
  {
   "cell_type": "markdown",
   "id": "37717a74",
   "metadata": {},
   "source": [
    "# 9-4. 간단한 그래프 그리기 (2) 선 그래프 그려보기"
   ]
  },
  {
   "cell_type": "code",
   "execution_count": null,
   "id": "ed2af55b",
   "metadata": {},
   "outputs": [],
   "source": []
  },
  {
   "cell_type": "markdown",
   "id": "c0de8932",
   "metadata": {},
   "source": [
    "# 9-5. 간단한 그래프 그리기 (3) plot 사용법 상세"
   ]
  },
  {
   "cell_type": "code",
   "execution_count": null,
   "id": "ae836fd4",
   "metadata": {},
   "outputs": [],
   "source": []
  },
  {
   "cell_type": "markdown",
   "id": "09f0fba7",
   "metadata": {},
   "source": [
    "# 9-6. 간단한 그래프 그리기 (4) 정리해 보자"
   ]
  },
  {
   "cell_type": "code",
   "execution_count": null,
   "id": "256680d0",
   "metadata": {},
   "outputs": [],
   "source": []
  },
  {
   "cell_type": "markdown",
   "id": "2f060917",
   "metadata": {},
   "source": [
    "# 9-7. 그래프 4대 천왕 (1) 데이터 준비"
   ]
  },
  {
   "cell_type": "code",
   "execution_count": null,
   "id": "830f756a",
   "metadata": {},
   "outputs": [],
   "source": []
  },
  {
   "cell_type": "markdown",
   "id": "4e52f19f",
   "metadata": {},
   "source": [
    "# 9-8. 그래프 4대 천왕 (2) 범주형 데이터"
   ]
  },
  {
   "cell_type": "code",
   "execution_count": null,
   "id": "0e172ce5",
   "metadata": {},
   "outputs": [],
   "source": []
  },
  {
   "cell_type": "markdown",
   "id": "c9ba5261",
   "metadata": {},
   "source": [
    "# 9-9. 그래프 4대 천왕 (3) 수치형 데이터"
   ]
  },
  {
   "cell_type": "code",
   "execution_count": null,
   "id": "41100e4b",
   "metadata": {},
   "outputs": [],
   "source": []
  },
  {
   "cell_type": "markdown",
   "id": "03849dff",
   "metadata": {},
   "source": [
    "# 9-10. 시계열 데이터 시각화하기"
   ]
  },
  {
   "cell_type": "code",
   "execution_count": null,
   "id": "db260cd1",
   "metadata": {},
   "outputs": [],
   "source": []
  },
  {
   "cell_type": "markdown",
   "id": "04deccde",
   "metadata": {},
   "source": [
    "# 9-11. Heatmap"
   ]
  },
  {
   "cell_type": "code",
   "execution_count": null,
   "id": "c83c82e8",
   "metadata": {},
   "outputs": [],
   "source": []
  }
 ],
 "metadata": {
  "kernelspec": {
   "display_name": "aiffel",
   "language": "python",
   "name": "aiffel"
  },
  "language_info": {
   "codemirror_mode": {
    "name": "ipython",
    "version": 3
   },
   "file_extension": ".py",
   "mimetype": "text/x-python",
   "name": "python",
   "nbconvert_exporter": "python",
   "pygments_lexer": "ipython3",
   "version": "3.7.15"
  }
 },
 "nbformat": 4,
 "nbformat_minor": 5
}
