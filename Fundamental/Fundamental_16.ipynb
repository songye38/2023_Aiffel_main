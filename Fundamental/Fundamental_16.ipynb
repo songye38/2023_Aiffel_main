{
 "cells": [
  {
   "cell_type": "code",
   "execution_count": 1,
   "id": "f50ebd75",
   "metadata": {},
   "outputs": [],
   "source": [
    "from bs4 import BeautifulSoup"
   ]
  },
  {
   "cell_type": "code",
   "execution_count": 2,
   "id": "23f94f9b",
   "metadata": {},
   "outputs": [],
   "source": [
    "from newspaper import Article\n",
    "\n",
    "url = 'https://n.news.naver.com/mnews/article/029/0002766294?sid=104'\n",
    "\n",
    "article = Article(url,language='ko')\n",
    "article.download()\n",
    "article.parse()"
   ]
  },
  {
   "cell_type": "code",
   "execution_count": 3,
   "id": "51d8175e",
   "metadata": {},
   "outputs": [
    {
     "name": "stdout",
     "output_type": "stream",
     "text": [
      "트위터서 밤새며 일하는 머스크 \"테슬라 일도 한다\"\n"
     ]
    }
   ],
   "source": [
    "print(article.title)"
   ]
  },
  {
   "cell_type": "code",
   "execution_count": 4,
   "id": "b4aeff88",
   "metadata": {},
   "outputs": [
    {
     "name": "stdout",
     "output_type": "stream",
     "text": [
      "소셜미디어 트위터를 인수한 테슬라 최고경영자(CEO) 일론 머스크가 트위터 업무에 집중해 테슬라 경영을 소홀히 한다는 지적을 의식한 듯 \"트위터 일과 함께 테슬라 업무도 봤다\"는 트윗을 올렸다. 그러면서 \"이번주 중 테슬라 업무도 챙겨보겠다\"고 밝혔다.14일(현지시간) 블룸버그통신에 따르면 머스크는 자신을 고문하듯 일주일 내내 트위터 업무를 하고 있다고 말했다. 인도네시아 발리에서 주요 20개국 정상회의(G20)와 함께 진행된 기업인 회의인 비즈니스20 서밋(B20)에 화상으로 참석해서 한 말이다.머스크는 \"내가 처리해야 할 일이 너무 많다. 할 수 있는 한 최대한 일을 하고 있다\"면서 \"아침부터 저녁까지 일주일에 7일을 일한다. 솔직히 말해 나 자신을 고문하는 정도는 극단적인 수준\"이라고 밝혔다.그는 B20 회의 이후에는 트위터에 글을 올려 트위터 본사에서 밤을 샜고 조직이 고쳐질 때까지 회사에서 일하고 잠잘 것이라고 밝혔다. 한편 머스크가 트위터를 인수한 후 회사 내부에서는 '직원들을 24시간 일하는 로봇으로 취급한다'는 등의 비판이 쏟아지고 있다.\n"
     ]
    }
   ],
   "source": [
    "print(article.text)"
   ]
  },
  {
   "cell_type": "code",
   "execution_count": 5,
   "id": "6dfac026",
   "metadata": {},
   "outputs": [],
   "source": [
    "# 크롤러를 만들기 전 필요한 도구들을 임포트합니다.\n",
    "import requests\n",
    "import pandas as pd\n",
    "from bs4 import BeautifulSoup\n",
    "\n",
    "# 페이지 수, 카테고리, 날짜를 입력값으로 받습니다.\n",
    "def make_urllist(page_num, code1, code2, date): \n",
    "  urllist= []\n",
    "  for i in range(1, page_num + 1):\n",
    "    url = 'https://news.naver.com/main/list.naver?mode=LS2D&mid=shm'+'&sid2='+str(code2)+'&sid1='+str(code1)+'&date='+str(date)+'&page='+str(i)\n",
    "    headers = {'User-Agent': 'Mozilla/5.0 (X11; Linux x86_64) AppleWebKit/537.36 (KHTML, like Gecko) Chrome/54.0.2840.90 Safari/537.36'}\n",
    "    news = requests.get(url, headers=headers)\n",
    "\n",
    "    # BeautifulSoup의 인스턴스 생성합니다. 파서는 html.parser를 사용합니다.\n",
    "    soup = BeautifulSoup(news.content, 'html.parser')\n",
    "\n",
    "    # CASE 1\n",
    "    news_list = soup.select('.newsflash_body .type06_headline li dl')\n",
    "    # CASE 2\n",
    "    news_list.extend(soup.select('.newsflash_body .type06 li dl'))\n",
    "        \n",
    "    # 각 뉴스로부터 a 태그인 <a href ='주소'> 에서 '주소'만을 가져옵니다.\n",
    "    \n",
    "    for line in news_list:\n",
    "        urllist.append(line.a.get('href'))\n",
    "  return urllist"
   ]
  },
  {
   "cell_type": "code",
   "execution_count": 6,
   "id": "4e16f883",
   "metadata": {},
   "outputs": [
    {
     "name": "stdout",
     "output_type": "stream",
     "text": [
      "뉴스 기사의 개수:  60\n"
     ]
    },
    {
     "data": {
      "text/plain": [
       "['https://n.news.naver.com/mnews/article/009/0005112558?sid=105',\n",
       " 'https://n.news.naver.com/mnews/article/018/0005457628?sid=105',\n",
       " 'https://n.news.naver.com/mnews/article/018/0005457622?sid=105',\n",
       " 'https://n.news.naver.com/mnews/article/003/0011788003?sid=105',\n",
       " 'https://n.news.naver.com/mnews/article/030/0003089282?sid=105',\n",
       " 'https://n.news.naver.com/mnews/article/001/0013864204?sid=105',\n",
       " 'https://n.news.naver.com/mnews/article/018/0005457578?sid=105',\n",
       " 'https://n.news.naver.com/mnews/article/018/0005457566?sid=105',\n",
       " 'https://n.news.naver.com/mnews/article/092/0002287988?sid=105',\n",
       " 'https://n.news.naver.com/mnews/article/018/0005457564?sid=105',\n",
       " 'https://n.news.naver.com/mnews/article/008/0004871717?sid=105',\n",
       " 'https://n.news.naver.com/mnews/article/009/0005112496?sid=105',\n",
       " 'https://n.news.naver.com/mnews/article/001/0013863971?sid=105',\n",
       " 'https://n.news.naver.com/mnews/article/003/0011787753?sid=105',\n",
       " 'https://n.news.naver.com/mnews/article/092/0002287972?sid=105',\n",
       " 'https://n.news.naver.com/mnews/article/138/0002145908?sid=105',\n",
       " 'https://n.news.naver.com/mnews/article/138/0002145905?sid=105',\n",
       " 'https://n.news.naver.com/mnews/article/092/0002287959?sid=105',\n",
       " 'https://n.news.naver.com/mnews/article/468/0000934121?sid=105',\n",
       " 'https://n.news.naver.com/mnews/article/011/0004175964?sid=105',\n",
       " 'https://n.news.naver.com/mnews/article/138/0002145901?sid=105',\n",
       " 'https://n.news.naver.com/mnews/article/003/0011787416?sid=105',\n",
       " 'https://n.news.naver.com/mnews/article/092/0002287950?sid=105',\n",
       " 'https://n.news.naver.com/mnews/article/011/0004175950?sid=105',\n",
       " 'https://n.news.naver.com/mnews/article/029/0002793303?sid=105',\n",
       " 'https://n.news.naver.com/mnews/article/018/0005457441?sid=105',\n",
       " 'https://n.news.naver.com/mnews/article/031/0000739218?sid=105',\n",
       " 'https://n.news.naver.com/mnews/article/008/0004871617?sid=105',\n",
       " 'https://n.news.naver.com/mnews/article/138/0002145886?sid=105',\n",
       " 'https://n.news.naver.com/mnews/article/014/0004992781?sid=105',\n",
       " 'https://n.news.naver.com/mnews/article/029/0002793280?sid=105',\n",
       " 'https://n.news.naver.com/mnews/article/011/0004175900?sid=105',\n",
       " 'https://n.news.naver.com/mnews/article/018/0005457411?sid=105',\n",
       " 'https://n.news.naver.com/mnews/article/031/0000739201?sid=105',\n",
       " 'https://n.news.naver.com/mnews/article/018/0005457396?sid=105',\n",
       " 'https://n.news.naver.com/mnews/article/138/0002145875?sid=105',\n",
       " 'https://n.news.naver.com/mnews/article/003/0011787114?sid=105',\n",
       " 'https://n.news.naver.com/mnews/article/018/0005457346?sid=105',\n",
       " 'https://n.news.naver.com/mnews/article/001/0013863161?sid=105',\n",
       " 'https://n.news.naver.com/mnews/article/018/0005457344?sid=105',\n",
       " 'https://n.news.naver.com/mnews/article/092/0002287912?sid=105',\n",
       " 'https://n.news.naver.com/mnews/article/018/0005457325?sid=105',\n",
       " 'https://n.news.naver.com/mnews/article/092/0002287908?sid=105',\n",
       " 'https://n.news.naver.com/mnews/article/003/0011786987?sid=105',\n",
       " 'https://n.news.naver.com/mnews/article/119/0002699962?sid=105',\n",
       " 'https://n.news.naver.com/mnews/article/018/0005457308?sid=105',\n",
       " 'https://n.news.naver.com/mnews/article/138/0002145866?sid=105',\n",
       " 'https://n.news.naver.com/mnews/article/003/0011786956?sid=105',\n",
       " 'https://n.news.naver.com/mnews/article/018/0005457297?sid=105',\n",
       " 'https://n.news.naver.com/mnews/article/092/0002287900?sid=105',\n",
       " 'https://n.news.naver.com/mnews/article/018/0005457283?sid=105',\n",
       " 'https://n.news.naver.com/mnews/article/001/0013863046?sid=105',\n",
       " 'https://n.news.naver.com/mnews/article/018/0005457271?sid=105',\n",
       " 'https://n.news.naver.com/mnews/article/092/0002287891?sid=105',\n",
       " 'https://n.news.naver.com/mnews/article/092/0002287888?sid=105',\n",
       " 'https://n.news.naver.com/mnews/article/092/0002287887?sid=105',\n",
       " 'https://n.news.naver.com/mnews/article/018/0005457259?sid=105',\n",
       " 'https://n.news.naver.com/mnews/article/018/0005457245?sid=105',\n",
       " 'https://n.news.naver.com/mnews/article/031/0000739148?sid=105',\n",
       " 'https://n.news.naver.com/mnews/article/014/0004992646?sid=105']"
      ]
     },
     "execution_count": 6,
     "metadata": {},
     "output_type": "execute_result"
    }
   ],
   "source": [
    "url_list = make_urllist(3,105,226,'20230406')\n",
    "print('뉴스 기사의 개수: ',len(url_list))\n",
    "url_list"
   ]
  },
  {
   "cell_type": "code",
   "execution_count": 7,
   "id": "6a3c5e52",
   "metadata": {},
   "outputs": [
    {
     "data": {
      "text/plain": [
       "['https://n.news.naver.com/mnews/article/009/0005112558?sid=105',\n",
       " 'https://n.news.naver.com/mnews/article/018/0005457628?sid=105',\n",
       " 'https://n.news.naver.com/mnews/article/018/0005457622?sid=105',\n",
       " 'https://n.news.naver.com/mnews/article/003/0011788003?sid=105',\n",
       " 'https://n.news.naver.com/mnews/article/030/0003089282?sid=105']"
      ]
     },
     "execution_count": 7,
     "metadata": {},
     "output_type": "execute_result"
    }
   ],
   "source": [
    "url_list[:5]"
   ]
  },
  {
   "cell_type": "code",
   "execution_count": 8,
   "id": "161a500f",
   "metadata": {},
   "outputs": [],
   "source": [
    "idx2word = {'101' : '경제', '102' : '사회', '103' : '생활/문화', '105' : 'IT/과학'}\n",
    "idx2word2 = {'731' : '모바일', '226' : '인터넷/SNS', '227' : '통신/뉴미디어', '230' : 'IT 일반', '732' : '보안/해킹', '283' : '컴퓨터'}"
   ]
  },
  {
   "cell_type": "code",
   "execution_count": 9,
   "id": "66e5da51",
   "metadata": {},
   "outputs": [],
   "source": [
    "from newspaper import Article\n",
    "\n",
    "def make_data(urllist,code1,code2):\n",
    "    text_list = []\n",
    "    for url in urllist:\n",
    "        article = Article(url,language='ko')\n",
    "        article.download()\n",
    "        article.parse()\n",
    "        text_list.append(article.text)\n",
    "    df = pd.DataFrame({'news':text_list})\n",
    "    df['code1'] = idx2word[str(code1)]\n",
    "    df['code2'] = idx2word2[str(code2)]\n",
    "    return df"
   ]
  },
  {
   "cell_type": "code",
   "execution_count": 10,
   "id": "755b4a0d",
   "metadata": {},
   "outputs": [
    {
     "data": {
      "text/html": [
       "<div>\n",
       "<style scoped>\n",
       "    .dataframe tbody tr th:only-of-type {\n",
       "        vertical-align: middle;\n",
       "    }\n",
       "\n",
       "    .dataframe tbody tr th {\n",
       "        vertical-align: top;\n",
       "    }\n",
       "\n",
       "    .dataframe thead th {\n",
       "        text-align: right;\n",
       "    }\n",
       "</style>\n",
       "<table border=\"1\" class=\"dataframe\">\n",
       "  <thead>\n",
       "    <tr style=\"text-align: right;\">\n",
       "      <th></th>\n",
       "      <th>news</th>\n",
       "      <th>code1</th>\n",
       "      <th>code2</th>\n",
       "    </tr>\n",
       "  </thead>\n",
       "  <tbody>\n",
       "    <tr>\n",
       "      <th>0</th>\n",
       "      <td>산돌은 네덜란드 폰트 회사 티포텍(Typotheque)과의 협업을 통해 데바나가리 ...</td>\n",
       "      <td>IT/과학</td>\n",
       "      <td>컴퓨터</td>\n",
       "    </tr>\n",
       "    <tr>\n",
       "      <th>1</th>\n",
       "      <td>지난 5일 강남구 빗썸 본사에서 이상천 대한적십자사 사무총장(사진 왼쪽 세 번째)과...</td>\n",
       "      <td>IT/과학</td>\n",
       "      <td>컴퓨터</td>\n",
       "    </tr>\n",
       "    <tr>\n",
       "      <th>2</th>\n",
       "      <td>[이데일리 함정선 기자] 국내 OTT 등 디지털 미디어의 경쟁력을 높이기 위해 삼성...</td>\n",
       "      <td>IT/과학</td>\n",
       "      <td>컴퓨터</td>\n",
       "    </tr>\n",
       "    <tr>\n",
       "      <th>3</th>\n",
       "      <td>기사내용 요약 박윤규 과기정통부 차관, 디지털 국정과제 간담회\\n\\n\"해외IT지원센...</td>\n",
       "      <td>IT/과학</td>\n",
       "      <td>컴퓨터</td>\n",
       "    </tr>\n",
       "    <tr>\n",
       "      <th>4</th>\n",
       "      <td>'가디언즈 오브 갤럭시' 시리즈 최초\\n\\n감독 제임스 건·주연배우 크리스 프랫 등...</td>\n",
       "      <td>IT/과학</td>\n",
       "      <td>컴퓨터</td>\n",
       "    </tr>\n",
       "    <tr>\n",
       "      <th>5</th>\n",
       "      <td>\\n\\n[네이버 캡처. 재판매 및 DB 금지] [네이버 캡처. 재판매 및 DB 금지...</td>\n",
       "      <td>IT/과학</td>\n",
       "      <td>컴퓨터</td>\n",
       "    </tr>\n",
       "    <tr>\n",
       "      <th>6</th>\n",
       "      <td>[이데일리 김현아 기자]네이버 스마트스토어를 운영하는 중소상공인(SME)과 네이버 ...</td>\n",
       "      <td>IT/과학</td>\n",
       "      <td>컴퓨터</td>\n",
       "    </tr>\n",
       "    <tr>\n",
       "      <th>7</th>\n",
       "      <td>[이데일리 김현아 기자]네이버(대표이사 최수연)가 전국의 중소상공인(SME)과 지자...</td>\n",
       "      <td>IT/과학</td>\n",
       "      <td>컴퓨터</td>\n",
       "    </tr>\n",
       "    <tr>\n",
       "      <th>8</th>\n",
       "      <td>(사진=지디넷코리아)\\n\\n(사진=지디넷코리아)\\n\\n작년 말부터 두드러진 배달앱 ...</td>\n",
       "      <td>IT/과학</td>\n",
       "      <td>컴퓨터</td>\n",
       "    </tr>\n",
       "    <tr>\n",
       "      <th>9</th>\n",
       "      <td>[이데일리 김현아 기자]국내 대표 협업툴 ‘플로우’를 서비스하는 마드라스체크(대표 ...</td>\n",
       "      <td>IT/과학</td>\n",
       "      <td>컴퓨터</td>\n",
       "    </tr>\n",
       "    <tr>\n",
       "      <th>10</th>\n",
       "      <td>개인정보보호위원회가 우수한 개인정보 보호·활용 기술을 보유하고 있는 스타트업 및 중...</td>\n",
       "      <td>IT/과학</td>\n",
       "      <td>컴퓨터</td>\n",
       "    </tr>\n",
       "    <tr>\n",
       "      <th>11</th>\n",
       "      <td>빅게임스튜디오 “재미를 넘어 감동을 주는 게임”\\n\\n전세계 1800만부 발매의 인...</td>\n",
       "      <td>IT/과학</td>\n",
       "      <td>컴퓨터</td>\n",
       "    </tr>\n",
       "    <tr>\n",
       "      <th>12</th>\n",
       "      <td>\\n\\n[연합뉴스TV 제공] [연합뉴스TV 제공]\\n\\n(서울=연합뉴스) 이지헌 기...</td>\n",
       "      <td>IT/과학</td>\n",
       "      <td>컴퓨터</td>\n",
       "    </tr>\n",
       "    <tr>\n",
       "      <th>13</th>\n",
       "      <td>기사내용 요약 이달 14일 우표 64만8000장·소형시트 36만장 발매\\n\\n[서울...</td>\n",
       "      <td>IT/과학</td>\n",
       "      <td>컴퓨터</td>\n",
       "    </tr>\n",
       "    <tr>\n",
       "      <th>14</th>\n",
       "      <td>(사진=웹툰 '촉법소년')\\n\\n웹툰스튜디오 더그림엔터테인먼트는 신작 ‘촉법소년’을...</td>\n",
       "      <td>IT/과학</td>\n",
       "      <td>컴퓨터</td>\n",
       "    </tr>\n",
       "    <tr>\n",
       "      <th>15</th>\n",
       "      <td>권경애 변호사(58·사진)가\\n\\n1심에서 부분 승소를 거둔 학폭 피해 유족의 2심...</td>\n",
       "      <td>IT/과학</td>\n",
       "      <td>컴퓨터</td>\n",
       "    </tr>\n",
       "    <tr>\n",
       "      <th>16</th>\n",
       "      <td>[디지털데일리 오현지 기자] 9급 공무원으로 근무해왔던 30대 초반의 남성 A씨가 ...</td>\n",
       "      <td>IT/과학</td>\n",
       "      <td>컴퓨터</td>\n",
       "    </tr>\n",
       "    <tr>\n",
       "      <th>17</th>\n",
       "      <td>디큐브 링크아트센터\\n\\nNHN링크는 대성아트센터와 대성 디큐브아트센터(이하 디큐브...</td>\n",
       "      <td>IT/과학</td>\n",
       "      <td>컴퓨터</td>\n",
       "    </tr>\n",
       "    <tr>\n",
       "      <th>18</th>\n",
       "      <td>[스포츠서울 | 황철훈기자] SK텔레콤이 인공지능(AI) 기술과 통신 빅데이터를 활...</td>\n",
       "      <td>IT/과학</td>\n",
       "      <td>컴퓨터</td>\n",
       "    </tr>\n",
       "    <tr>\n",
       "      <th>19</th>\n",
       "      <td>쏘카(403550)\\n\\n[서울경제]모빌리티 혁신 플랫폼가 올해 10월까지 경북 지...</td>\n",
       "      <td>IT/과학</td>\n",
       "      <td>컴퓨터</td>\n",
       "    </tr>\n",
       "    <tr>\n",
       "      <th>20</th>\n",
       "      <td>[디지털데일리 김문기 기자] 교원그룹은 사내벤처 톡크가 개발한 동명의 채팅소설 플랫...</td>\n",
       "      <td>IT/과학</td>\n",
       "      <td>컴퓨터</td>\n",
       "    </tr>\n",
       "    <tr>\n",
       "      <th>21</th>\n",
       "      <td>기사내용 요약 NHN링크, 네이밍 및 티켓시스템 운영 계약 체결\\n\\n[서울=뉴시스...</td>\n",
       "      <td>IT/과학</td>\n",
       "      <td>컴퓨터</td>\n",
       "    </tr>\n",
       "    <tr>\n",
       "      <th>22</th>\n",
       "      <td>사진=Cash App\\n\\n모바일 결제 회사인 '캐시앱'(Cash App)의 설립자...</td>\n",
       "      <td>IT/과학</td>\n",
       "      <td>컴퓨터</td>\n",
       "    </tr>\n",
       "    <tr>\n",
       "      <th>23</th>\n",
       "      <td>카카오(035720)\\n\\n[서울경제]의 임팩트 커머스 카카오메이커스는 16일까지 ...</td>\n",
       "      <td>IT/과학</td>\n",
       "      <td>컴퓨터</td>\n",
       "    </tr>\n",
       "    <tr>\n",
       "      <th>24</th>\n",
       "      <td>네이버가 전국의 SME(중소상공인)와 지자체 기획전, 상품을 한 데 모아 볼 수 있...</td>\n",
       "      <td>IT/과학</td>\n",
       "      <td>컴퓨터</td>\n",
       "    </tr>\n",
       "    <tr>\n",
       "      <th>25</th>\n",
       "      <td>[이데일리 김정유 기자] 웹툰스튜디오 더그림엔터테인먼트는 신작 ‘촉법소년’을 네이버...</td>\n",
       "      <td>IT/과학</td>\n",
       "      <td>컴퓨터</td>\n",
       "    </tr>\n",
       "    <tr>\n",
       "      <th>26</th>\n",
       "      <td>네이버가 전국 중소사업자(SME)와 지자체 기획전 및 상품을 한데 모아 볼 수 있는...</td>\n",
       "      <td>IT/과학</td>\n",
       "      <td>컴퓨터</td>\n",
       "    </tr>\n",
       "    <tr>\n",
       "      <th>27</th>\n",
       "      <td>네이버(NAVER)는 전국 지자체와 중소상공인의 상품을 한데 모은 상생전용관 '나란...</td>\n",
       "      <td>IT/과학</td>\n",
       "      <td>컴퓨터</td>\n",
       "    </tr>\n",
       "    <tr>\n",
       "      <th>28</th>\n",
       "      <td>[디지털데일리 이나연 기자] 크리에이터 콘텐츠 플랫폼 기업 산돌이 다국어 폰트 서비...</td>\n",
       "      <td>IT/과학</td>\n",
       "      <td>컴퓨터</td>\n",
       "    </tr>\n",
       "    <tr>\n",
       "      <th>29</th>\n",
       "      <td>[파이낸셜뉴스] 네이버 스마트스토어를 운영하는 중소상인(SME)과 네이버 인플루언서...</td>\n",
       "      <td>IT/과학</td>\n",
       "      <td>컴퓨터</td>\n",
       "    </tr>\n",
       "    <tr>\n",
       "      <th>30</th>\n",
       "      <td>네이버는 창작자와 브랜드사 연결을 지원하는 '브랜드 커넥트' 서비스의 가입 대상을 ...</td>\n",
       "      <td>IT/과학</td>\n",
       "      <td>컴퓨터</td>\n",
       "    </tr>\n",
       "    <tr>\n",
       "      <th>31</th>\n",
       "      <td>[서울경제]네이버는 창작자와 브랜드사 연결을 지원하는 '브랜드 커넥트' 서비스 가입...</td>\n",
       "      <td>IT/과학</td>\n",
       "      <td>컴퓨터</td>\n",
       "    </tr>\n",
       "    <tr>\n",
       "      <th>32</th>\n",
       "      <td>[이데일리 임유경 기자] 가상자산 대장주 비트코인이 추가 상승 모멘텀을 찾지 못하고...</td>\n",
       "      <td>IT/과학</td>\n",
       "      <td>컴퓨터</td>\n",
       "    </tr>\n",
       "    <tr>\n",
       "      <th>33</th>\n",
       "      <td>네이버 스마트스토어를 운영하는 중소사업자(SME)와 인플루언서 간 제휴 협업이 쉬워...</td>\n",
       "      <td>IT/과학</td>\n",
       "      <td>컴퓨터</td>\n",
       "    </tr>\n",
       "    <tr>\n",
       "      <th>34</th>\n",
       "      <td>프랑스 파리 갤럭시 익스피리언스 스토어 전경. (사진=삼성전자)\\n\\n삼성전자 일본...</td>\n",
       "      <td>IT/과학</td>\n",
       "      <td>컴퓨터</td>\n",
       "    </tr>\n",
       "    <tr>\n",
       "      <th>35</th>\n",
       "      <td>[디지털데일리 이나연 기자] 네이버 스마트스토어를 운영하는 중소상공인(SME)과 네...</td>\n",
       "      <td>IT/과학</td>\n",
       "      <td>컴퓨터</td>\n",
       "    </tr>\n",
       "    <tr>\n",
       "      <th>36</th>\n",
       "      <td>기사내용 요약 로컬 및 SME 상품과 기획전 한데 모아 제공\\n\\n\"SME 판로 넓...</td>\n",
       "      <td>IT/과학</td>\n",
       "      <td>컴퓨터</td>\n",
       "    </tr>\n",
       "    <tr>\n",
       "      <th>37</th>\n",
       "      <td>[이데일리 함정선 기자] SK텔레콤은 한국동물병원협회와 동물병원 진료종사자를 대상으...</td>\n",
       "      <td>IT/과학</td>\n",
       "      <td>컴퓨터</td>\n",
       "    </tr>\n",
       "    <tr>\n",
       "      <th>38</th>\n",
       "      <td>\\n\\n[네이버 제공. 재판매 및 DB 금지] [네이버 제공. 재판매 및 DB 금지...</td>\n",
       "      <td>IT/과학</td>\n",
       "      <td>컴퓨터</td>\n",
       "    </tr>\n",
       "    <tr>\n",
       "      <th>39</th>\n",
       "      <td>[이데일리 김현아 기자]글로벌 팬덤 라이프 플랫폼 위버스(Weverse)가 6일 그...</td>\n",
       "      <td>IT/과학</td>\n",
       "      <td>컴퓨터</td>\n",
       "    </tr>\n",
       "    <tr>\n",
       "      <th>40</th>\n",
       "      <td>(사진=요기요)\\n\\n요기요가 소상공인시장진흥공단(소진공)과 음식업주들의 효율적인 ...</td>\n",
       "      <td>IT/과학</td>\n",
       "      <td>컴퓨터</td>\n",
       "    </tr>\n",
       "    <tr>\n",
       "      <th>41</th>\n",
       "      <td>[이데일리 함정선 기자] KT는 AI 음성합성 콘텐츠 제작 플랫폼 ‘KT AI 보이...</td>\n",
       "      <td>IT/과학</td>\n",
       "      <td>컴퓨터</td>\n",
       "    </tr>\n",
       "    <tr>\n",
       "      <th>42</th>\n",
       "      <td>[네이버] 나란히가게\\n\\n네이버(대표 최수연)가 전국의 중소상공인(SME)과 지자...</td>\n",
       "      <td>IT/과학</td>\n",
       "      <td>컴퓨터</td>\n",
       "    </tr>\n",
       "    <tr>\n",
       "      <th>43</th>\n",
       "      <td>기사내용 요약 '브랜드 커넥트', SME 마케팅 부담 덜기 위해 대상 확대\\n\\n캠...</td>\n",
       "      <td>IT/과학</td>\n",
       "      <td>컴퓨터</td>\n",
       "    </tr>\n",
       "    <tr>\n",
       "      <th>44</th>\n",
       "      <td>[데일리안 = 민단비 기자] 네이버 스마트스토어를 운영하는 중소상공인(SME)과 네...</td>\n",
       "      <td>IT/과학</td>\n",
       "      <td>컴퓨터</td>\n",
       "    </tr>\n",
       "    <tr>\n",
       "      <th>45</th>\n",
       "      <td>(사진=한국소프트웨어산업협회)\\n\\n[이데일리 김국배 기자] 한국소프트웨어산업협회는...</td>\n",
       "      <td>IT/과학</td>\n",
       "      <td>컴퓨터</td>\n",
       "    </tr>\n",
       "    <tr>\n",
       "      <th>46</th>\n",
       "      <td>[디지털데일리 이나연 기자] 코로나19 이후 비대면 활동이 일상화하면서 인간관계를 ...</td>\n",
       "      <td>IT/과학</td>\n",
       "      <td>컴퓨터</td>\n",
       "    </tr>\n",
       "    <tr>\n",
       "      <th>47</th>\n",
       "      <td>기사내용 요약 금천구청·서울시복지재단·한국전력·행복커넥트와 협약\\n\\n통신 빅데이터...</td>\n",
       "      <td>IT/과학</td>\n",
       "      <td>컴퓨터</td>\n",
       "    </tr>\n",
       "    <tr>\n",
       "      <th>48</th>\n",
       "      <td>[이데일리 함정선 기자] LG유플러스는 우리금융그룹 계열 카드사인 ‘우리카드’에 스...</td>\n",
       "      <td>IT/과학</td>\n",
       "      <td>컴퓨터</td>\n",
       "    </tr>\n",
       "    <tr>\n",
       "      <th>49</th>\n",
       "      <td>메쉬코리아 부릉\\n\\n(사진=메쉬코리아)\\n\\n배달 플랫폼 ‘부릉’ 운영사 메쉬코리...</td>\n",
       "      <td>IT/과학</td>\n",
       "      <td>컴퓨터</td>\n",
       "    </tr>\n",
       "    <tr>\n",
       "      <th>50</th>\n",
       "      <td>김완종 SK(주) C&amp;C Digital사업총괄(왼쪽)과 스톰벤처스(Storm Ven...</td>\n",
       "      <td>IT/과학</td>\n",
       "      <td>컴퓨터</td>\n",
       "    </tr>\n",
       "    <tr>\n",
       "      <th>51</th>\n",
       "      <td>\\n\\n[네이버 제공. 재판매 및 DB 금지] [네이버 제공. 재판매 및 DB 금지...</td>\n",
       "      <td>IT/과학</td>\n",
       "      <td>컴퓨터</td>\n",
       "    </tr>\n",
       "    <tr>\n",
       "      <th>52</th>\n",
       "      <td>[이데일리 함정선 기자] SK텔레콤은 인공지능(AI) 기술과 통신 빅데이터를 활용해...</td>\n",
       "      <td>IT/과학</td>\n",
       "      <td>컴퓨터</td>\n",
       "    </tr>\n",
       "    <tr>\n",
       "      <th>53</th>\n",
       "      <td>(사진=야놀자클라우드)\\n\\n야놀자클라우드(대표 김종윤)가 북미 호스피탈리티 솔루션...</td>\n",
       "      <td>IT/과학</td>\n",
       "      <td>컴퓨터</td>\n",
       "    </tr>\n",
       "    <tr>\n",
       "      <th>54</th>\n",
       "      <td>(사진=쏘카)\\n\\n쏘카가 경상북도·경상북도문화관광공사와 경북 지역 자유여행 수요 ...</td>\n",
       "      <td>IT/과학</td>\n",
       "      <td>컴퓨터</td>\n",
       "    </tr>\n",
       "    <tr>\n",
       "      <th>55</th>\n",
       "      <td>마크 저커버그 (사진=씨넷)\\n\\n페이스북, 인스타그램 운영사 메타가 미래 먹거리로...</td>\n",
       "      <td>IT/과학</td>\n",
       "      <td>컴퓨터</td>\n",
       "    </tr>\n",
       "    <tr>\n",
       "      <th>56</th>\n",
       "      <td>코인니스 로고. 코인니스는 2018년 베이징대 유학생 출신이 모여 설립한 실시간 블...</td>\n",
       "      <td>IT/과학</td>\n",
       "      <td>컴퓨터</td>\n",
       "    </tr>\n",
       "    <tr>\n",
       "      <th>57</th>\n",
       "      <td>[이데일리 김현아 기자]앱마켓 원스토어(대표 전동진)가 중소벤처기업부가 주관하는 ‘...</td>\n",
       "      <td>IT/과학</td>\n",
       "      <td>컴퓨터</td>\n",
       "    </tr>\n",
       "    <tr>\n",
       "      <th>58</th>\n",
       "      <td>\"세종대왕 맥북 던짐 사건 알려줘.\"지난 3월19일 카카오 AI 자회사 카카오브레인...</td>\n",
       "      <td>IT/과학</td>\n",
       "      <td>컴퓨터</td>\n",
       "    </tr>\n",
       "    <tr>\n",
       "      <th>59</th>\n",
       "      <td>【실리콘밸리(미국)=홍창기 특파원】사명까지 메타로 바꾸고 메타버스에 막대한 투자를 ...</td>\n",
       "      <td>IT/과학</td>\n",
       "      <td>컴퓨터</td>\n",
       "    </tr>\n",
       "  </tbody>\n",
       "</table>\n",
       "</div>"
      ],
      "text/plain": [
       "                                                 news  code1 code2\n",
       "0   산돌은 네덜란드 폰트 회사 티포텍(Typotheque)과의 협업을 통해 데바나가리 ...  IT/과학   컴퓨터\n",
       "1   지난 5일 강남구 빗썸 본사에서 이상천 대한적십자사 사무총장(사진 왼쪽 세 번째)과...  IT/과학   컴퓨터\n",
       "2   [이데일리 함정선 기자] 국내 OTT 등 디지털 미디어의 경쟁력을 높이기 위해 삼성...  IT/과학   컴퓨터\n",
       "3   기사내용 요약 박윤규 과기정통부 차관, 디지털 국정과제 간담회\\n\\n\"해외IT지원센...  IT/과학   컴퓨터\n",
       "4   '가디언즈 오브 갤럭시' 시리즈 최초\\n\\n감독 제임스 건·주연배우 크리스 프랫 등...  IT/과학   컴퓨터\n",
       "5   \\n\\n[네이버 캡처. 재판매 및 DB 금지] [네이버 캡처. 재판매 및 DB 금지...  IT/과학   컴퓨터\n",
       "6   [이데일리 김현아 기자]네이버 스마트스토어를 운영하는 중소상공인(SME)과 네이버 ...  IT/과학   컴퓨터\n",
       "7   [이데일리 김현아 기자]네이버(대표이사 최수연)가 전국의 중소상공인(SME)과 지자...  IT/과학   컴퓨터\n",
       "8   (사진=지디넷코리아)\\n\\n(사진=지디넷코리아)\\n\\n작년 말부터 두드러진 배달앱 ...  IT/과학   컴퓨터\n",
       "9   [이데일리 김현아 기자]국내 대표 협업툴 ‘플로우’를 서비스하는 마드라스체크(대표 ...  IT/과학   컴퓨터\n",
       "10  개인정보보호위원회가 우수한 개인정보 보호·활용 기술을 보유하고 있는 스타트업 및 중...  IT/과학   컴퓨터\n",
       "11  빅게임스튜디오 “재미를 넘어 감동을 주는 게임”\\n\\n전세계 1800만부 발매의 인...  IT/과학   컴퓨터\n",
       "12  \\n\\n[연합뉴스TV 제공] [연합뉴스TV 제공]\\n\\n(서울=연합뉴스) 이지헌 기...  IT/과학   컴퓨터\n",
       "13  기사내용 요약 이달 14일 우표 64만8000장·소형시트 36만장 발매\\n\\n[서울...  IT/과학   컴퓨터\n",
       "14  (사진=웹툰 '촉법소년')\\n\\n웹툰스튜디오 더그림엔터테인먼트는 신작 ‘촉법소년’을...  IT/과학   컴퓨터\n",
       "15  권경애 변호사(58·사진)가\\n\\n1심에서 부분 승소를 거둔 학폭 피해 유족의 2심...  IT/과학   컴퓨터\n",
       "16  [디지털데일리 오현지 기자] 9급 공무원으로 근무해왔던 30대 초반의 남성 A씨가 ...  IT/과학   컴퓨터\n",
       "17  디큐브 링크아트센터\\n\\nNHN링크는 대성아트센터와 대성 디큐브아트센터(이하 디큐브...  IT/과학   컴퓨터\n",
       "18  [스포츠서울 | 황철훈기자] SK텔레콤이 인공지능(AI) 기술과 통신 빅데이터를 활...  IT/과학   컴퓨터\n",
       "19  쏘카(403550)\\n\\n[서울경제]모빌리티 혁신 플랫폼가 올해 10월까지 경북 지...  IT/과학   컴퓨터\n",
       "20  [디지털데일리 김문기 기자] 교원그룹은 사내벤처 톡크가 개발한 동명의 채팅소설 플랫...  IT/과학   컴퓨터\n",
       "21  기사내용 요약 NHN링크, 네이밍 및 티켓시스템 운영 계약 체결\\n\\n[서울=뉴시스...  IT/과학   컴퓨터\n",
       "22  사진=Cash App\\n\\n모바일 결제 회사인 '캐시앱'(Cash App)의 설립자...  IT/과학   컴퓨터\n",
       "23  카카오(035720)\\n\\n[서울경제]의 임팩트 커머스 카카오메이커스는 16일까지 ...  IT/과학   컴퓨터\n",
       "24  네이버가 전국의 SME(중소상공인)와 지자체 기획전, 상품을 한 데 모아 볼 수 있...  IT/과학   컴퓨터\n",
       "25  [이데일리 김정유 기자] 웹툰스튜디오 더그림엔터테인먼트는 신작 ‘촉법소년’을 네이버...  IT/과학   컴퓨터\n",
       "26  네이버가 전국 중소사업자(SME)와 지자체 기획전 및 상품을 한데 모아 볼 수 있는...  IT/과학   컴퓨터\n",
       "27  네이버(NAVER)는 전국 지자체와 중소상공인의 상품을 한데 모은 상생전용관 '나란...  IT/과학   컴퓨터\n",
       "28  [디지털데일리 이나연 기자] 크리에이터 콘텐츠 플랫폼 기업 산돌이 다국어 폰트 서비...  IT/과학   컴퓨터\n",
       "29  [파이낸셜뉴스] 네이버 스마트스토어를 운영하는 중소상인(SME)과 네이버 인플루언서...  IT/과학   컴퓨터\n",
       "30  네이버는 창작자와 브랜드사 연결을 지원하는 '브랜드 커넥트' 서비스의 가입 대상을 ...  IT/과학   컴퓨터\n",
       "31  [서울경제]네이버는 창작자와 브랜드사 연결을 지원하는 '브랜드 커넥트' 서비스 가입...  IT/과학   컴퓨터\n",
       "32  [이데일리 임유경 기자] 가상자산 대장주 비트코인이 추가 상승 모멘텀을 찾지 못하고...  IT/과학   컴퓨터\n",
       "33  네이버 스마트스토어를 운영하는 중소사업자(SME)와 인플루언서 간 제휴 협업이 쉬워...  IT/과학   컴퓨터\n",
       "34  프랑스 파리 갤럭시 익스피리언스 스토어 전경. (사진=삼성전자)\\n\\n삼성전자 일본...  IT/과학   컴퓨터\n",
       "35  [디지털데일리 이나연 기자] 네이버 스마트스토어를 운영하는 중소상공인(SME)과 네...  IT/과학   컴퓨터\n",
       "36  기사내용 요약 로컬 및 SME 상품과 기획전 한데 모아 제공\\n\\n\"SME 판로 넓...  IT/과학   컴퓨터\n",
       "37  [이데일리 함정선 기자] SK텔레콤은 한국동물병원협회와 동물병원 진료종사자를 대상으...  IT/과학   컴퓨터\n",
       "38  \\n\\n[네이버 제공. 재판매 및 DB 금지] [네이버 제공. 재판매 및 DB 금지...  IT/과학   컴퓨터\n",
       "39  [이데일리 김현아 기자]글로벌 팬덤 라이프 플랫폼 위버스(Weverse)가 6일 그...  IT/과학   컴퓨터\n",
       "40  (사진=요기요)\\n\\n요기요가 소상공인시장진흥공단(소진공)과 음식업주들의 효율적인 ...  IT/과학   컴퓨터\n",
       "41  [이데일리 함정선 기자] KT는 AI 음성합성 콘텐츠 제작 플랫폼 ‘KT AI 보이...  IT/과학   컴퓨터\n",
       "42  [네이버] 나란히가게\\n\\n네이버(대표 최수연)가 전국의 중소상공인(SME)과 지자...  IT/과학   컴퓨터\n",
       "43  기사내용 요약 '브랜드 커넥트', SME 마케팅 부담 덜기 위해 대상 확대\\n\\n캠...  IT/과학   컴퓨터\n",
       "44  [데일리안 = 민단비 기자] 네이버 스마트스토어를 운영하는 중소상공인(SME)과 네...  IT/과학   컴퓨터\n",
       "45  (사진=한국소프트웨어산업협회)\\n\\n[이데일리 김국배 기자] 한국소프트웨어산업협회는...  IT/과학   컴퓨터\n",
       "46  [디지털데일리 이나연 기자] 코로나19 이후 비대면 활동이 일상화하면서 인간관계를 ...  IT/과학   컴퓨터\n",
       "47  기사내용 요약 금천구청·서울시복지재단·한국전력·행복커넥트와 협약\\n\\n통신 빅데이터...  IT/과학   컴퓨터\n",
       "48  [이데일리 함정선 기자] LG유플러스는 우리금융그룹 계열 카드사인 ‘우리카드’에 스...  IT/과학   컴퓨터\n",
       "49  메쉬코리아 부릉\\n\\n(사진=메쉬코리아)\\n\\n배달 플랫폼 ‘부릉’ 운영사 메쉬코리...  IT/과학   컴퓨터\n",
       "50  김완종 SK(주) C&C Digital사업총괄(왼쪽)과 스톰벤처스(Storm Ven...  IT/과학   컴퓨터\n",
       "51  \\n\\n[네이버 제공. 재판매 및 DB 금지] [네이버 제공. 재판매 및 DB 금지...  IT/과학   컴퓨터\n",
       "52  [이데일리 함정선 기자] SK텔레콤은 인공지능(AI) 기술과 통신 빅데이터를 활용해...  IT/과학   컴퓨터\n",
       "53  (사진=야놀자클라우드)\\n\\n야놀자클라우드(대표 김종윤)가 북미 호스피탈리티 솔루션...  IT/과학   컴퓨터\n",
       "54  (사진=쏘카)\\n\\n쏘카가 경상북도·경상북도문화관광공사와 경북 지역 자유여행 수요 ...  IT/과학   컴퓨터\n",
       "55  마크 저커버그 (사진=씨넷)\\n\\n페이스북, 인스타그램 운영사 메타가 미래 먹거리로...  IT/과학   컴퓨터\n",
       "56  코인니스 로고. 코인니스는 2018년 베이징대 유학생 출신이 모여 설립한 실시간 블...  IT/과학   컴퓨터\n",
       "57  [이데일리 김현아 기자]앱마켓 원스토어(대표 전동진)가 중소벤처기업부가 주관하는 ‘...  IT/과학   컴퓨터\n",
       "58  \"세종대왕 맥북 던짐 사건 알려줘.\"지난 3월19일 카카오 AI 자회사 카카오브레인...  IT/과학   컴퓨터\n",
       "59  【실리콘밸리(미국)=홍창기 특파원】사명까지 메타로 바꾸고 메타버스에 막대한 투자를 ...  IT/과학   컴퓨터"
      ]
     },
     "execution_count": 10,
     "metadata": {},
     "output_type": "execute_result"
    }
   ],
   "source": [
    "data = make_data(url_list,105,283)\n",
    "data"
   ]
  },
  {
   "cell_type": "markdown",
   "id": "ee988183",
   "metadata": {},
   "source": [
    "# 16-8. 네이버 뉴스 기사 크롤링 (3) 데이터 수집 및 전처리"
   ]
  },
  {
   "cell_type": "code",
   "execution_count": 11,
   "id": "e864b020",
   "metadata": {},
   "outputs": [
    {
     "data": {
      "text/plain": [
       "[[102, 250], [103, 243], [105, 283]]"
      ]
     },
     "execution_count": 11,
     "metadata": {},
     "output_type": "execute_result"
    }
   ],
   "source": [
    "code_list = [[102,250],[103,243],[105,283]]\n",
    "idx2word2 = {'731' : '모바일', '226' : '인터넷/SNS', '227' : '통신/뉴미디어', '230' : 'IT 일반', '732' : '보안/해킹', '283' : '컴퓨터', '250' : '교육', '243' : '책'}\n",
    "code_list"
   ]
  },
  {
   "cell_type": "code",
   "execution_count": 12,
   "id": "385c68e3",
   "metadata": {},
   "outputs": [],
   "source": [
    "from multiprocessing import Pool\n",
    "import random\n",
    "import time,os\n",
    "\n",
    "\n",
    "def make_total_data(page_num,code_list,date):\n",
    "    start = int(time.time()) #시작을 만든다.\n",
    "    num_cores = 4\n",
    "    df = None\n",
    "    for code1,code2 in code_list:\n",
    "        pool = Pool(num_cores)\n",
    "        url_list = make_urllist(page_num,code1,code2,date)\n",
    "        df_temp = make_data(url_list,code1,code2)\n",
    "        print(str(code1)+'번:'+str(code2)+'번'+' 코드에 대한 데이터를 만들었습니다.')\n",
    "        pool.close()\n",
    "        pool.join()\n",
    "        time.sleep(random.randint(0,1))\n",
    "        if df is not None:\n",
    "            df = pd.concat([df,df_temp])\n",
    "        else:\n",
    "            df = df_temp\n",
    "    print(\"***run time(sec) : \",int(time.time())-start)\n",
    "    return df"
   ]
  },
  {
   "cell_type": "code",
   "execution_count": 13,
   "id": "92edf416",
   "metadata": {},
   "outputs": [
    {
     "name": "stdout",
     "output_type": "stream",
     "text": [
      "102번:250번 코드에 대한 데이터를 만들었습니다.\n",
      "103번:243번 코드에 대한 데이터를 만들었습니다.\n",
      "105번:283번 코드에 대한 데이터를 만들었습니다.\n",
      "***run time(sec) :  22\n"
     ]
    }
   ],
   "source": [
    "df = make_total_data(1,code_list,20230406)"
   ]
  },
  {
   "cell_type": "code",
   "execution_count": 14,
   "id": "0d1602be",
   "metadata": {},
   "outputs": [
    {
     "name": "stdout",
     "output_type": "stream",
     "text": [
      "60\n"
     ]
    }
   ],
   "source": [
    "print(len(df))"
   ]
  },
  {
   "cell_type": "code",
   "execution_count": 15,
   "id": "1287465d",
   "metadata": {},
   "outputs": [
    {
     "data": {
      "text/html": [
       "<div>\n",
       "<style scoped>\n",
       "    .dataframe tbody tr th:only-of-type {\n",
       "        vertical-align: middle;\n",
       "    }\n",
       "\n",
       "    .dataframe tbody tr th {\n",
       "        vertical-align: top;\n",
       "    }\n",
       "\n",
       "    .dataframe thead th {\n",
       "        text-align: right;\n",
       "    }\n",
       "</style>\n",
       "<table border=\"1\" class=\"dataframe\">\n",
       "  <thead>\n",
       "    <tr style=\"text-align: right;\">\n",
       "      <th></th>\n",
       "      <th>news</th>\n",
       "      <th>code1</th>\n",
       "      <th>code2</th>\n",
       "    </tr>\n",
       "  </thead>\n",
       "  <tbody>\n",
       "    <tr>\n",
       "      <th>3</th>\n",
       "      <td>메가존 계열 나임네트웍스가 클라우드 통합운영 관리 플랫폼 '탱고'를 통해 글로벌 시...</td>\n",
       "      <td>IT/과학</td>\n",
       "      <td>컴퓨터</td>\n",
       "    </tr>\n",
       "    <tr>\n",
       "      <th>11</th>\n",
       "      <td>소도 뛰고 개도 뛰고 소방관도 뛰고!이보다 시골 소방관의 삶을 단 한 번에 나타낼 ...</td>\n",
       "      <td>생활/문화</td>\n",
       "      <td>책</td>\n",
       "    </tr>\n",
       "    <tr>\n",
       "      <th>1</th>\n",
       "      <td>아이들은 금방 친해진다고들 말한다. 놀이터에서 처음 만난 사이라도 어느새 함께 놀고...</td>\n",
       "      <td>생활/문화</td>\n",
       "      <td>책</td>\n",
       "    </tr>\n",
       "    <tr>\n",
       "      <th>18</th>\n",
       "      <td>구글.(사진=씨넷)\\n\\n구글이 자체 개발 중인 인공지능(AI)용 슈퍼 컴퓨터 'T...</td>\n",
       "      <td>IT/과학</td>\n",
       "      <td>컴퓨터</td>\n",
       "    </tr>\n",
       "    <tr>\n",
       "      <th>12</th>\n",
       "      <td>배동현 BDH재단 이사장. (사진=한국외대 제공)\\n\\n[이데일리 김형환 기자] 한...</td>\n",
       "      <td>사회</td>\n",
       "      <td>교육</td>\n",
       "    </tr>\n",
       "    <tr>\n",
       "      <th>15</th>\n",
       "      <td>\\n\\n[연합뉴스 자료사진] [연합뉴스 자료사진]\\n\\n(청주=연합뉴스) 김형우 기...</td>\n",
       "      <td>사회</td>\n",
       "      <td>교육</td>\n",
       "    </tr>\n",
       "    <tr>\n",
       "      <th>9</th>\n",
       "      <td>대구대 조형예술대학 패션학부가 ㈜올댓뷰티아카데미와 상호교류 협약을 체결했다. 협약을...</td>\n",
       "      <td>사회</td>\n",
       "      <td>교육</td>\n",
       "    </tr>\n",
       "    <tr>\n",
       "      <th>13</th>\n",
       "      <td>(청주=뉴스1) 이성기 기자 = 충북 청주교육지원청(교육장 박재환) 특수교육지원센터...</td>\n",
       "      <td>사회</td>\n",
       "      <td>교육</td>\n",
       "    </tr>\n",
       "    <tr>\n",
       "      <th>13</th>\n",
       "      <td>OCR API (사진=업스테이지)\\n\\n(사진=업스테이지)\\n\\n업스테이지(대표 김...</td>\n",
       "      <td>IT/과학</td>\n",
       "      <td>컴퓨터</td>\n",
       "    </tr>\n",
       "    <tr>\n",
       "      <th>15</th>\n",
       "      <td>[디지털데일리 박세아 기자] 글로벌 블록체인 전문가들이 토큰증권(이하 ST) 국내 ...</td>\n",
       "      <td>IT/과학</td>\n",
       "      <td>컴퓨터</td>\n",
       "    </tr>\n",
       "  </tbody>\n",
       "</table>\n",
       "</div>"
      ],
      "text/plain": [
       "                                                 news  code1 code2\n",
       "3   메가존 계열 나임네트웍스가 클라우드 통합운영 관리 플랫폼 '탱고'를 통해 글로벌 시...  IT/과학   컴퓨터\n",
       "11  소도 뛰고 개도 뛰고 소방관도 뛰고!이보다 시골 소방관의 삶을 단 한 번에 나타낼 ...  생활/문화     책\n",
       "1   아이들은 금방 친해진다고들 말한다. 놀이터에서 처음 만난 사이라도 어느새 함께 놀고...  생활/문화     책\n",
       "18  구글.(사진=씨넷)\\n\\n구글이 자체 개발 중인 인공지능(AI)용 슈퍼 컴퓨터 'T...  IT/과학   컴퓨터\n",
       "12  배동현 BDH재단 이사장. (사진=한국외대 제공)\\n\\n[이데일리 김형환 기자] 한...     사회    교육\n",
       "15  \\n\\n[연합뉴스 자료사진] [연합뉴스 자료사진]\\n\\n(청주=연합뉴스) 김형우 기...     사회    교육\n",
       "9   대구대 조형예술대학 패션학부가 ㈜올댓뷰티아카데미와 상호교류 협약을 체결했다. 협약을...     사회    교육\n",
       "13  (청주=뉴스1) 이성기 기자 = 충북 청주교육지원청(교육장 박재환) 특수교육지원센터...     사회    교육\n",
       "13  OCR API (사진=업스테이지)\\n\\n(사진=업스테이지)\\n\\n업스테이지(대표 김...  IT/과학   컴퓨터\n",
       "15  [디지털데일리 박세아 기자] 글로벌 블록체인 전문가들이 토큰증권(이하 ST) 국내 ...  IT/과학   컴퓨터"
      ]
     },
     "execution_count": 15,
     "metadata": {},
     "output_type": "execute_result"
    }
   ],
   "source": [
    "df.sample(10)"
   ]
  },
  {
   "cell_type": "code",
   "execution_count": 16,
   "id": "1624b556",
   "metadata": {},
   "outputs": [
    {
     "name": "stdout",
     "output_type": "stream",
     "text": [
      "102번:250번 코드에 대한 데이터를 만들었습니다.\n",
      "103번:243번 코드에 대한 데이터를 만들었습니다.\n",
      "105번:283번 코드에 대한 데이터를 만들었습니다.\n",
      "***run time(sec) :  170\n"
     ]
    }
   ],
   "source": [
    "df = make_total_data(10, code_list, 20230406)"
   ]
  },
  {
   "cell_type": "code",
   "execution_count": 18,
   "id": "3133fd28",
   "metadata": {},
   "outputs": [
    {
     "name": "stdout",
     "output_type": "stream",
     "text": [
      "file saved!\n"
     ]
    }
   ],
   "source": [
    "import os\n",
    "csv_path = './data/news_data.csv'\n",
    "df.to_csv(csv_path,index=False)\n",
    "\n",
    "if os.path.exists(csv_path):\n",
    "    print('file saved!')"
   ]
  },
  {
   "cell_type": "markdown",
   "id": "b1655b19",
   "metadata": {},
   "source": [
    "# 16-9. 네이버 뉴스 기사 크롤링 (4) 데이터 전처리"
   ]
  },
  {
   "cell_type": "code",
   "execution_count": 85,
   "id": "fde9d35c",
   "metadata": {},
   "outputs": [
    {
     "data": {
      "text/html": [
       "<div>\n",
       "<style scoped>\n",
       "    .dataframe tbody tr th:only-of-type {\n",
       "        vertical-align: middle;\n",
       "    }\n",
       "\n",
       "    .dataframe tbody tr th {\n",
       "        vertical-align: top;\n",
       "    }\n",
       "\n",
       "    .dataframe thead th {\n",
       "        text-align: right;\n",
       "    }\n",
       "</style>\n",
       "<table border=\"1\" class=\"dataframe\">\n",
       "  <thead>\n",
       "    <tr style=\"text-align: right;\">\n",
       "      <th></th>\n",
       "      <th>news</th>\n",
       "      <th>code1</th>\n",
       "      <th>code2</th>\n",
       "    </tr>\n",
       "  </thead>\n",
       "  <tbody>\n",
       "    <tr>\n",
       "      <th>0</th>\n",
       "      <td>컨선월드와이드 한국(대표 이준모)과 아주대학교 국제대학원(원장 장병윤)은 지난 4일...</td>\n",
       "      <td>사회</td>\n",
       "      <td>교육</td>\n",
       "    </tr>\n",
       "    <tr>\n",
       "      <th>1</th>\n",
       "      <td>핵심요약 종로학원, 지난해 4월 말 학교알리미 공시자료 통해 전체 320고교의 학폭...</td>\n",
       "      <td>사회</td>\n",
       "      <td>교육</td>\n",
       "    </tr>\n",
       "    <tr>\n",
       "      <th>2</th>\n",
       "      <td>\\n\\n[연합뉴스 자료사진] [연합뉴스 자료사진]\\n\\n\\n\\n[연합뉴스 자료사진]...</td>\n",
       "      <td>사회</td>\n",
       "      <td>교육</td>\n",
       "    </tr>\n",
       "    <tr>\n",
       "      <th>3</th>\n",
       "      <td>[서울경제]장제국(사진) 동서대 총장이 한국대학교육협의회(대교협) 제27대 회장으로...</td>\n",
       "      <td>사회</td>\n",
       "      <td>교육</td>\n",
       "    </tr>\n",
       "    <tr>\n",
       "      <th>4</th>\n",
       "      <td>[헤럴드경제 도현정 기자]이대한 성균관대 생명과학과 교수가 현대 유전학의 성과를 통...</td>\n",
       "      <td>사회</td>\n",
       "      <td>교육</td>\n",
       "    </tr>\n",
       "  </tbody>\n",
       "</table>\n",
       "</div>"
      ],
      "text/plain": [
       "                                                news code1 code2\n",
       "0  컨선월드와이드 한국(대표 이준모)과 아주대학교 국제대학원(원장 장병윤)은 지난 4일...    사회    교육\n",
       "1  핵심요약 종로학원, 지난해 4월 말 학교알리미 공시자료 통해 전체 320고교의 학폭...    사회    교육\n",
       "2  \\n\\n[연합뉴스 자료사진] [연합뉴스 자료사진]\\n\\n\\n\\n[연합뉴스 자료사진]...    사회    교육\n",
       "3  [서울경제]장제국(사진) 동서대 총장이 한국대학교육협의회(대교협) 제27대 회장으로...    사회    교육\n",
       "4  [헤럴드경제 도현정 기자]이대한 성균관대 생명과학과 교수가 현대 유전학의 성과를 통...    사회    교육"
      ]
     },
     "execution_count": 85,
     "metadata": {},
     "output_type": "execute_result"
    }
   ],
   "source": [
    "import pandas as pd\n",
    "df = pd.read_csv('./data/news_data.csv',sep=',')\n",
    "df.head()"
   ]
  },
  {
   "cell_type": "code",
   "execution_count": 86,
   "id": "e39b879f",
   "metadata": {},
   "outputs": [
    {
     "data": {
      "text/plain": [
       "0      컨선월드와이드 한국대표 이준모과 아주대학교 국제대학원원장 장병윤은 지난 일 아주대학...\n",
       "1      핵심요약 종로학원 지난해 월 말 학교알리미 공시자료 통해 전체 고교의 학폭 심의건수...\n",
       "2      연합뉴스 자료사진 연합뉴스 자료사진연합뉴스 자료사진 연합뉴스 자료사진수원연합뉴스 최...\n",
       "3      서울경제장제국사진 동서대 총장이 한국대학교육협의회대교협 제대 회장으로 취임한다대교협...\n",
       "4      헤럴드경제 도현정 기자이대한 성균관대 생명과학과 교수가 현대 유전학의 성과를 통해 ...\n",
       "                             ...                        \n",
       "469    로그프레소 로고로그프레소가 보안 운영 플랫폼 전문 기술력과 사업성을 인정받아 억원 ...\n",
       "470    한국정보보호학회와 한국인터넷진흥원은 오는 일과 일 이틀 간 코엑스에서 온오프라인으로...\n",
       "471    디지털 기술 활성화로 데이터 수요가 급증하면서 전기먹는 하마 데이터센터가 기업 경쟁...\n",
       "472    는 경쟁력 있는 국내 기업들의 상호협력과 전략적 연대를 이끌어낼 협의체가 필요하다는...\n",
       "473    일현지시간 미국 증시가 인플레이션과 미 연준의 금리 불확실성 보다는 경기침체로 확연...\n",
       "Name: news, Length: 474, dtype: object"
      ]
     },
     "execution_count": 86,
     "metadata": {},
     "output_type": "execute_result"
    }
   ],
   "source": [
    "df['news'] = df['news'].str.replace(\"[^ㄱ-ㅎㅏ-ㅣ가-힣 ]\",\"\",regex=True)\n",
    "df['news']"
   ]
  },
  {
   "cell_type": "code",
   "execution_count": 87,
   "id": "c1b7ffb2",
   "metadata": {},
   "outputs": [
    {
     "name": "stdout",
     "output_type": "stream",
     "text": [
      "news     0\n",
      "code1    0\n",
      "code2    0\n",
      "dtype: int64\n"
     ]
    }
   ],
   "source": [
    "print(df.isnull().sum())"
   ]
  },
  {
   "cell_type": "code",
   "execution_count": 88,
   "id": "6007e201",
   "metadata": {},
   "outputs": [
    {
     "name": "stdout",
     "output_type": "stream",
     "text": [
      "268\n"
     ]
    }
   ],
   "source": [
    "df.drop_duplicates(subset=['news'],inplace=True)\n",
    "print(len(df))"
   ]
  },
  {
   "cell_type": "code",
   "execution_count": 89,
   "id": "9a952b88",
   "metadata": {},
   "outputs": [
    {
     "name": "stdout",
     "output_type": "stream",
     "text": [
      "Nanum Pen Script OTF /Library/Fonts/NanumPen.otf\n",
      "NanumBarunGothicOTF /Library/Fonts/NanumBarunGothic.otf\n",
      "NanumSquareOTF /Library/Fonts/NanumSquareOTFExtraBold.otf\n",
      "NanumSquareOTF /Library/Fonts/NanumSquareOTFLight.otf\n",
      "NanumBarunGothicOTF /Library/Fonts/NanumBarunGothicBold.otf\n",
      "NanumBarunGothicOTF /Library/Fonts/NanumBarunGothicUltraLight.otf\n",
      "Nanum Brush Script OTF /Library/Fonts/NanumBrush.otf\n",
      "NanumMyeongjoOTF /Library/Fonts/NanumMyeongjo.otf\n",
      "NanumGothicOTF /Library/Fonts/NanumGothic.otf\n",
      "NanumBarunpen /Library/Fonts/NanumBarunpenBold.otf\n",
      "NanumGothicOTF /Library/Fonts/NanumGothicLight.otf\n",
      "NanumMyeongjoOTF /Library/Fonts/NanumMyeongjoExtraBold.otf\n",
      "NanumSquareRoundOTF /Library/Fonts/NanumSquareRoundOTFR.otf\n",
      "NanumSquareRoundOTF /Library/Fonts/NanumSquareRoundOTFEB.otf\n",
      "NanumSquareOTF /Library/Fonts/NanumSquareOTFRegular.otf\n",
      "NanumGothicOTF /Library/Fonts/NanumGothicBold.otf\n",
      "NanumGothicOTF /Library/Fonts/NanumGothicExtraBold.otf\n",
      "NanumSquareOTF /Library/Fonts/NanumSquareOTFBold.otf\n",
      "NanumSquareRoundOTF /Library/Fonts/NanumSquareRoundOTFL.otf\n",
      "NanumBarunGothicOTF /Library/Fonts/NanumBarunGothicLight.otf\n",
      "NanumBarunpen /Library/Fonts/NanumBarunpenRegular.otf\n",
      "NanumSquareRoundOTF /Library/Fonts/NanumSquareRoundOTFB.otf\n",
      "NanumMyeongjoOTF /Library/Fonts/NanumMyeongjoBold.otf\n"
     ]
    }
   ],
   "source": [
    "from matplotlib import font_manager \n",
    "for i in font_manager.fontManager.ttflist: \n",
    "    if 'Nanum' in i.name: \n",
    "        print(i.name, i.fname)"
   ]
  },
  {
   "cell_type": "code",
   "execution_count": 90,
   "id": "4105801e",
   "metadata": {},
   "outputs": [
    {
     "data": {
      "text/plain": [
       "<AxesSubplot:title={'center':'한글 제목입니다.'}>"
      ]
     },
     "execution_count": 90,
     "metadata": {},
     "output_type": "execute_result"
    },
    {
     "data": {
      "image/png": "[encoded data removed]",
      "text/plain": [
       "<Figure size 576x396 with 1 Axes>"
      ]
     },
     "metadata": {},
     "output_type": "display_data"
    }
   ],
   "source": [
    "import matplotlib.pyplot as plt\n",
    "import matplotlib\n",
    "plt.style.use('seaborn')\n",
    "plt.rcParams[\"font.family\"] = \"NanumSquareOTF\"\n",
    "plt.title(\"한글 제목입니다.\")\n",
    "df['code1'].value_counts().plot(kind='bar')"
   ]
  },
  {
   "cell_type": "code",
   "execution_count": 91,
   "id": "da43873d",
   "metadata": {},
   "outputs": [
    {
     "data": {
      "text/html": [
       "<div>\n",
       "<style scoped>\n",
       "    .dataframe tbody tr th:only-of-type {\n",
       "        vertical-align: middle;\n",
       "    }\n",
       "\n",
       "    .dataframe tbody tr th {\n",
       "        vertical-align: top;\n",
       "    }\n",
       "\n",
       "    .dataframe thead th {\n",
       "        text-align: right;\n",
       "    }\n",
       "</style>\n",
       "<table border=\"1\" class=\"dataframe\">\n",
       "  <thead>\n",
       "    <tr style=\"text-align: right;\">\n",
       "      <th></th>\n",
       "      <th>code1</th>\n",
       "      <th>count</th>\n",
       "    </tr>\n",
       "  </thead>\n",
       "  <tbody>\n",
       "    <tr>\n",
       "      <th>0</th>\n",
       "      <td>IT/과학</td>\n",
       "      <td>46</td>\n",
       "    </tr>\n",
       "    <tr>\n",
       "      <th>1</th>\n",
       "      <td>사회</td>\n",
       "      <td>182</td>\n",
       "    </tr>\n",
       "    <tr>\n",
       "      <th>2</th>\n",
       "      <td>생활/문화</td>\n",
       "      <td>40</td>\n",
       "    </tr>\n",
       "  </tbody>\n",
       "</table>\n",
       "</div>"
      ],
      "text/plain": [
       "   code1  count\n",
       "0  IT/과학     46\n",
       "1     사회    182\n",
       "2  생활/문화     40"
      ]
     },
     "execution_count": 91,
     "metadata": {},
     "output_type": "execute_result"
    }
   ],
   "source": [
    "df.groupby('code1').size().reset_index(name='count')"
   ]
  },
  {
   "cell_type": "code",
   "execution_count": 92,
   "id": "4ca0ada4",
   "metadata": {},
   "outputs": [
    {
     "data": {
      "text/html": [
       "<div>\n",
       "<style scoped>\n",
       "    .dataframe tbody tr th:only-of-type {\n",
       "        vertical-align: middle;\n",
       "    }\n",
       "\n",
       "    .dataframe tbody tr th {\n",
       "        vertical-align: top;\n",
       "    }\n",
       "\n",
       "    .dataframe thead th {\n",
       "        text-align: right;\n",
       "    }\n",
       "</style>\n",
       "<table border=\"1\" class=\"dataframe\">\n",
       "  <thead>\n",
       "    <tr style=\"text-align: right;\">\n",
       "      <th></th>\n",
       "      <th>code1</th>\n",
       "      <th>count</th>\n",
       "    </tr>\n",
       "  </thead>\n",
       "  <tbody>\n",
       "    <tr>\n",
       "      <th>0</th>\n",
       "      <td>IT/과학</td>\n",
       "      <td>46</td>\n",
       "    </tr>\n",
       "    <tr>\n",
       "      <th>1</th>\n",
       "      <td>사회</td>\n",
       "      <td>182</td>\n",
       "    </tr>\n",
       "    <tr>\n",
       "      <th>2</th>\n",
       "      <td>생활/문화</td>\n",
       "      <td>40</td>\n",
       "    </tr>\n",
       "  </tbody>\n",
       "</table>\n",
       "</div>"
      ],
      "text/plain": [
       "   code1  count\n",
       "0  IT/과학     46\n",
       "1     사회    182\n",
       "2  생활/문화     40"
      ]
     },
     "execution_count": 92,
     "metadata": {},
     "output_type": "execute_result"
    }
   ],
   "source": [
    "df.groupby('code1').size().reset_index(name='count')"
   ]
  },
  {
   "cell_type": "code",
   "execution_count": 93,
   "id": "066d61ec",
   "metadata": {},
   "outputs": [
    {
     "name": "stdout",
     "output_type": "stream",
     "text": [
      "['컨', '선', '월드', '와이드', '한국', '대표', '이준모', '과', '아주', '대학교', '국제', '대학원', '원장', '장병윤', '은', '지난', '일', '아주', '대학교', '국제', '대학원', '에서', '글로벌', '인재', '양성', '을', '위한', '업무', '협약', '을', '체결', '했', '다', '아주', '대학교', '국제', '대학원', '은', '년', '설립', '이래', '글로벌', '인재', '양성', '을', '위해', '꾸준히', '노력', '해', '오', '고', '있', '으며', '전', '세계', '개국', '에서', '여', '명', '이상', '의', '동문', '을', '배출', '했', '다', '지난', '년', '에', '는', '한국', '국제', '협력', '단', '이', '주관', '하', '는', '아시아', '시민', '사회', '리더십', '에', '선정', '돼', '아시아', '주요', '개도국', '출신', '의', '연수생', '들', '을', '선발', '해', '시민', '사회학', '분야', '의', '리더', '들', '로', '훈련', '시키', '고', '있', '다', '이번', '약정', '체결', '을', '통해', '컨', '선', '월드', '와이드', '한국', '과', '아주', '대학교', '국제', '대학원', '은', '글로벌', '전문가', '양성', '및', '배출', '을', '위해', '힘쓸', '예정', '이', '며', '주로', '해외', '인', '적', '네트워크', '활용', '및', '학생', '들', '의', '현장', '실습', '참여', '기회', '제공', '등', '의', '분야', '에서', '협력', '을', '이', '어', '갈', '계획', '이', '다', '컨', '선', '월드', '와이드', '한국', '이준모', '대표', '는', '국제', '학', '의', '선구자', '이', '자', '글로벌', '인재', '양성', '에', '앞장서', '고', '있', '는', '아주', '대학교', '국제', '대학원', '과', '협력', '할', '수', '있', '게', '되', '어', '영광', '이', '다며', '한국', '사회', '에서', '글로벌', '리더', '들', '을', '배출', '하', '는', '의미', '있', '는', '활동', '에', '컨', '선', '월드', '와', '이드', '가', '적극', '협력', '하', '고자', '한다고', '전했', '다', '장병윤', '아주', '대학교', '국제', '대학', '원장', '은', '국제', '인도주의', '단체', '인', '컨', '선', '월드', '와', '이드', '와', '의', '협력', '은', '아주', '대학교', '국제', '대학원', '에', '중요', '한', '의미', '가', '있', '다며', '학생', '들', '의', '국제', '화', '활동', '기아', '및', '빈곤', '이슈', '에', '대한', '전문', '적', '교육', '기획', '제공', '등', '교육', '적', '인', '측면', '에서', '의', '성장', '을', '기대', '한다고', '협약', '의', '소감', '을', '밝혔', '다', '한편', '컨', '선', '월드', '와이드', '한국지부', '는', '년', '에', '설립', '되', '어', '한국', '사회', '내', '인도주의', '현장', '의', '상황', '을', '알리', '고', '이', '를', '위한', '모금', '활동', '을', '꾸준히', '해', '오', '고', '있', '다', '최근', '튀르', '키', '예', '지진', '긴급', '대응', '에', '도', '투입', '되', '는', '등', '국제', '개발', '및', '인도', '적', '지원', '활동', '을', '전문', '적', '으로', '이어', '오', '고', '있', '다']\n"
     ]
    }
   ],
   "source": [
    "from konlpy.tag import Mecab\n",
    "tokenizer = Mecab()\n",
    "\n",
    "kor_text = '컨선월드와이드 한국대표 이준모과 아주대학교 국제대학원원장 장병윤은 지난 일 아주대학교 국제대학원에서 글로벌 인재 양성을 위한 업무협약을 체결했다아주대학교 국제대학원은 년 설립 이래 글로벌 인재 양성을 위해 꾸준히 노력해 오고 있으며 전 세계 개국에서 여 명 이상의 동문을 배출했다 지난 년에는 한국국제협력단이 주관하는 아시아 시민사회 리더십에 선정돼 아시아 주요 개도국 출신의 연수생들을 선발해 시민사회학 분야의 리더들로 훈련시키고 있다이번 약정 체결을 통해 컨선월드와이드 한국과 아주대학교 국제대학원은 글로벌 전문가 양성 및 배출을 위해 힘쓸 예정이며 주로 해외 인적 네트워크 활용 및 학생들의 현장 실습 참여 기회 제공 등의 분야에서 협력을 이어갈 계획이다컨선월드와이드 한국 이준모 대표는 국제학의 선구자이자 글로벌 인재양성에 앞장서고 있는 아주대학교 국제대학원과 협력할 수 있게 되어 영광이다며 한국 사회에서 글로벌 리더들을 배출하는 의미 있는 활동에 컨선월드와이드가 적극 협력하고자 한다고 전했다장병윤 아주대학교 국제대학원장은 국제인도주의 단체인 컨선월드와이드와의 협력은 아주대학교 국제대학원에 중요한 의미가 있다며 학생들의 국제화 활동 기아 및 빈곤 이슈에 대한 전문적 교육 기획 제공 등 교육적인 측면에서의 성장을 기대한다고 협약의 소감을 밝혔다한편 컨선월드와이드 한국지부는 년에 설립되어 한국 사회 내 인도주의 현장의 상황을 알리고 이를 위한 모금 활동을 꾸준히 해오고 있다 최근 튀르키예 지진 긴급대응에도 투입되는 등 국제개발 및 인도적 지원 활동을 전문적으로 이어오고 있다'\n",
    "\n",
    "tokenized_text = tokenizer.morphs(kor_text)\n",
    "print(tokenized_text)"
   ]
  },
  {
   "cell_type": "code",
   "execution_count": 94,
   "id": "9fef9ae0",
   "metadata": {},
   "outputs": [],
   "source": [
    "stopwords = ['에','는','은','을','했','에게','있','이','의','하','한','다','과','때문','할','수','무단','따른','및','금지','전재','경향신문','기자','는데','가','등','들','파이낸셜','저작','등','뉴스']"
   ]
  },
  {
   "cell_type": "code",
   "execution_count": 95,
   "id": "5b7e2bcd",
   "metadata": {},
   "outputs": [],
   "source": [
    "def preprocessing(data):\n",
    "    tokenized_text = []\n",
    "    for sentence in data:\n",
    "        tokens = tokenizer.morphs(sentence)\n",
    "        tokens_list = [token for token in tokens if token not in stopwords]\n",
    "        tokenized_text.append(tokens_list)  \n",
    "    tokenized_text = list(map(' '.join,tokenized_text)) #공백을 기준으로 다시 연결시켜주기\n",
    "    return tokenized_text"
   ]
  },
  {
   "cell_type": "code",
   "execution_count": 96,
   "id": "fa1e2a57",
   "metadata": {},
   "outputs": [],
   "source": [
    "text_data = preprocessing(df['news'])"
   ]
  },
  {
   "cell_type": "code",
   "execution_count": 97,
   "id": "62d5bf36",
   "metadata": {},
   "outputs": [],
   "source": [
    "from sklearn.model_selection import train_test_split\n",
    "from sklearn.feature_extraction.text import CountVectorizer\n",
    "from sklearn.feature_extraction.text import TfidfTransformer\n",
    "from sklearn.naive_bayes import MultinomialNB\n",
    "from sklearn import metrics"
   ]
  },
  {
   "cell_type": "code",
   "execution_count": 98,
   "id": "a1ba13bb",
   "metadata": {},
   "outputs": [],
   "source": [
    "X_train,X_test,y_train,y_test = train_test_split(text_data,df['code1'],random_state=0)"
   ]
  },
  {
   "cell_type": "code",
   "execution_count": 99,
   "id": "e51f2caf",
   "metadata": {},
   "outputs": [
    {
     "name": "stdout",
     "output_type": "stream",
     "text": [
      "  (0, 333)\t1\n",
      "  (0, 5349)\t1\n",
      "  (0, 1569)\t1\n",
      "  (0, 5974)\t2\n",
      "  (0, 935)\t1\n",
      "  (0, 617)\t2\n",
      "  (0, 1572)\t1\n",
      "  (0, 3071)\t1\n",
      "  (0, 6992)\t1\n",
      "  (0, 5517)\t2\n",
      "  (0, 5727)\t2\n",
      "  (0, 5848)\t2\n",
      "  (0, 4151)\t2\n",
      "  (0, 5725)\t3\n",
      "  (0, 615)\t6\n",
      "  (0, 526)\t3\n",
      "  (0, 5692)\t4\n",
      "  (0, 2988)\t4\n",
      "  (0, 2441)\t6\n",
      "  (0, 3386)\t1\n",
      "  (0, 5107)\t1\n",
      "  (0, 5424)\t2\n",
      "  (0, 4378)\t1\n",
      "  (0, 880)\t1\n",
      "  (0, 2821)\t4\n",
      "  :\t:\n",
      "  (200, 6139)\t2\n",
      "  (200, 4035)\t1\n",
      "  (200, 1670)\t1\n",
      "  (200, 4111)\t1\n",
      "  (200, 3390)\t1\n",
      "  (200, 5408)\t1\n",
      "  (200, 853)\t1\n",
      "  (200, 6924)\t1\n",
      "  (200, 1861)\t1\n",
      "  (200, 4226)\t2\n",
      "  (200, 2646)\t1\n",
      "  (200, 3588)\t1\n",
      "  (200, 1483)\t1\n",
      "  (200, 7011)\t2\n",
      "  (200, 4439)\t1\n",
      "  (200, 3207)\t1\n",
      "  (200, 5883)\t1\n",
      "  (200, 1234)\t1\n",
      "  (200, 845)\t1\n",
      "  (200, 5977)\t1\n",
      "  (200, 2643)\t1\n",
      "  (200, 2533)\t1\n",
      "  (200, 6042)\t1\n",
      "  (200, 1713)\t1\n",
      "  (200, 1213)\t1\n"
     ]
    }
   ],
   "source": [
    "count_vect = CountVectorizer()\n",
    "X_train_counts = count_vect.fit_transform(X_train)\n",
    "print(X_train_counts)"
   ]
  },
  {
   "cell_type": "code",
   "execution_count": 100,
   "id": "ee5578cc",
   "metadata": {},
   "outputs": [
    {
     "name": "stdout",
     "output_type": "stream",
     "text": [
      "  (0, 5)\t1\n",
      "  (0, 2)\t1\n",
      "  (0, 4)\t1\n",
      "  (0, 1)\t1\n",
      "  (0, 0)\t1\n",
      "  (1, 5)\t1\n",
      "  (1, 2)\t1\n",
      "  (1, 4)\t1\n",
      "  (1, 0)\t2\n",
      "  (1, 3)\t1\n"
     ]
    }
   ],
   "source": [
    "from sklearn.feature_extraction.text import CountVectorizer\n",
    "corpus = [\n",
    "    'This is the first document.',\n",
    "    'This document is the second document.',\n",
    "]\n",
    "vectorizer = CountVectorizer()\n",
    "X = vectorizer.fit_transform(corpus)\n",
    "print(X)"
   ]
  },
  {
   "cell_type": "code",
   "execution_count": 109,
   "id": "c1a7d6c1",
   "metadata": {},
   "outputs": [],
   "source": [
    "#- 단어의 수를 카운트하는 사이킷런의 카운트벡터라이저입니다.\n",
    "count_vect = CountVectorizer()\n",
    "X_train_counts = count_vect.fit_transform(X_train)\n",
    "\n",
    "#- 카운트벡터라이저의 결과로부터 TF-IDF 결과를 얻습니다.\n",
    "tfidf_transformer = TfidfTransformer()\n",
    "X_train_tfidf = tfidf_transformer.fit_transform(X_train_counts)\n",
    "\n",
    "#- 나이브 베이즈 분류기를 수행합니다.\n",
    "#- X_train은 TF-IDF 벡터, y_train은 레이블입니다.\n",
    "clf = MultinomialNB().fit(X_train_tfidf, y_train)"
   ]
  },
  {
   "cell_type": "code",
   "execution_count": 110,
   "id": "65a5355d",
   "metadata": {},
   "outputs": [],
   "source": [
    "def tfidf_vectorizer(data):\n",
    "  data_counts = count_vect.transform(data)\n",
    "  data_tfidf = tfidf_transformer.transform(data_counts)\n",
    "  return data_tfidf"
   ]
  },
  {
   "cell_type": "code",
   "execution_count": 111,
   "id": "4168dd9e",
   "metadata": {},
   "outputs": [
    {
     "name": "stdout",
     "output_type": "stream",
     "text": [
      "['사회']\n"
     ]
    }
   ],
   "source": [
    "new_sent = preprocessing([\"민주당 일각에서 법사위의 체계·자구 심사 기능을 없애야 한다는 \\\n",
    "                           주장이 나오는 데 대해 “체계·자구 심사가 법안 지연의 수단으로 \\\n",
    "                          쓰이는 것은 바람직하지 않다”면서도 “국회를 통과하는 법안 중 위헌\\\n",
    "                          법률이 1년에 10건 넘게 나온다. 그런데 체계·자구 심사까지 없애면 매우 위험하다”고 반박했다.\"])\n",
    "print(clf.predict(tfidf_vectorizer(new_sent)))"
   ]
  },
  {
   "cell_type": "code",
   "execution_count": 112,
   "id": "d51e4d47",
   "metadata": {},
   "outputs": [
    {
     "name": "stdout",
     "output_type": "stream",
     "text": [
      "['사회']\n"
     ]
    }
   ],
   "source": [
    "new_sent = preprocessing([\"인도 로맨틱 코미디 영화 <까립까립 싱글>(2017)을 봤을 때 나는 두 눈을 의심했다. \\\n",
    "                          저 사람이 남자 주인공이라고? 노안에 가까운 이목구비와 기름때로 뭉친 파마머리와, \\\n",
    "                          대충 툭툭 던지는 말투 등 전혀 로맨틱하지 않은 외모였다. 반감이 일면서 \\\n",
    "                          ‘난 외모지상주의자가 아니다’라고 자부했던 나에 대해 회의가 들었다.\\\n",
    "                           티브이를 꺼버릴까? 다른 걸 볼까? 그런데, 이상하다. 왜 이렇게 매력 있지? 개구리와\\\n",
    "                            같이 툭 불거진 눈망울 안에는 어떤 인도 배우에게서도 느끼지 못한 \\\n",
    "                            부드러움과 선량함, 무엇보다 슬픔이 있었다. 2시간 뒤 영화가 끝나고 나는 완전히 이 배우에게 빠졌다\"])\n",
    "print(clf.predict(tfidf_vectorizer(new_sent)))"
   ]
  },
  {
   "cell_type": "code",
   "execution_count": 113,
   "id": "b5ea2fe6",
   "metadata": {},
   "outputs": [
    {
     "name": "stdout",
     "output_type": "stream",
     "text": [
      "['사회']\n"
     ]
    }
   ],
   "source": [
    "new_sent = preprocessing([\"20분기 연속으로 적자에 시달리는 LG전자가 브랜드 이름부터 성능, 디자인까지 대대적인 변화를 \\\n",
    "                          적용한 LG 벨벳은 등장 전부터 온라인 커뮤니티를 뜨겁게 달궜다. 사용자들은 “디자인이 예쁘다”, \\\n",
    "                          “슬림하다”는 반응을 보이며 LG 벨벳에 대한 기대감을 드러냈다.\"])\n",
    "print(clf.predict(tfidf_vectorizer(new_sent)))"
   ]
  },
  {
   "cell_type": "code",
   "execution_count": 114,
   "id": "74d3c56a",
   "metadata": {},
   "outputs": [
    {
     "name": "stdout",
     "output_type": "stream",
     "text": [
      "              precision    recall  f1-score   support\n",
      "\n",
      "       IT/과학       1.00      0.07      0.13        14\n",
      "          사회       0.65      1.00      0.79        43\n",
      "       생활/문화       0.00      0.00      0.00        10\n",
      "\n",
      "    accuracy                           0.66        67\n",
      "   macro avg       0.55      0.36      0.31        67\n",
      "weighted avg       0.63      0.66      0.53        67\n",
      "\n"
     ]
    },
    {
     "name": "stderr",
     "output_type": "stream",
     "text": [
      "/Users/songye/opt/anaconda3/envs/aiffel/lib/python3.7/site-packages/sklearn/metrics/_classification.py:1318: UndefinedMetricWarning: Precision and F-score are ill-defined and being set to 0.0 in labels with no predicted samples. Use `zero_division` parameter to control this behavior.\n",
      "  _warn_prf(average, modifier, msg_start, len(result))\n",
      "/Users/songye/opt/anaconda3/envs/aiffel/lib/python3.7/site-packages/sklearn/metrics/_classification.py:1318: UndefinedMetricWarning: Precision and F-score are ill-defined and being set to 0.0 in labels with no predicted samples. Use `zero_division` parameter to control this behavior.\n",
      "  _warn_prf(average, modifier, msg_start, len(result))\n",
      "/Users/songye/opt/anaconda3/envs/aiffel/lib/python3.7/site-packages/sklearn/metrics/_classification.py:1318: UndefinedMetricWarning: Precision and F-score are ill-defined and being set to 0.0 in labels with no predicted samples. Use `zero_division` parameter to control this behavior.\n",
      "  _warn_prf(average, modifier, msg_start, len(result))\n"
     ]
    }
   ],
   "source": [
    "y_pred = clf.predict(tfidf_vectorizer(X_test))\n",
    "print(metrics.classification_report(y_test,y_pred))"
   ]
  },
  {
   "cell_type": "code",
   "execution_count": null,
   "id": "53960d1d",
   "metadata": {},
   "outputs": [],
   "source": []
  }
 ],
 "metadata": {
  "kernelspec": {
   "display_name": "aiffel",
   "language": "python",
   "name": "aiffel"
  },
  "language_info": {
   "codemirror_mode": {
    "name": "ipython",
    "version": 3
   },
   "file_extension": ".py",
   "mimetype": "text/x-python",
   "name": "python",
   "nbconvert_exporter": "python",
   "pygments_lexer": "ipython3",
   "version": "3.7.15"
  }
 },
 "nbformat": 4,
 "nbformat_minor": 5
}
