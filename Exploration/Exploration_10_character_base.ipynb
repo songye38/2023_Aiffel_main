{
 "cells": [
  {
   "cell_type": "code",
   "execution_count": 1,
   "id": "e6c8c17c",
   "metadata": {},
   "outputs": [],
   "source": [
    "import pandas as pd\n",
    "from tensorflow.keras.preprocessing.text import Tokenizer\n",
    "from tensorflow.keras.preprocessing.sequence import pad_sequences\n",
    "from tensorflow.keras.utils import to_categorical\n",
    "import numpy as np\n",
    "import os"
   ]
  },
  {
   "cell_type": "markdown",
   "id": "a4bc06f2",
   "metadata": {},
   "source": [
    "# 10-7. 번역기 만들기 (1) 데이터 전처리"
   ]
  },
  {
   "cell_type": "markdown",
   "id": "182988b1",
   "metadata": {},
   "source": [
    "### 파일 읽어오기"
   ]
  },
  {
   "cell_type": "code",
   "execution_count": 2,
   "id": "f56531af",
   "metadata": {},
   "outputs": [
    {
     "name": "stdout",
     "output_type": "stream",
     "text": [
      "전체 샘플의 수 :  197463\n"
     ]
    },
    {
     "data": {
      "text/html": [
       "<div>\n",
       "<style scoped>\n",
       "    .dataframe tbody tr th:only-of-type {\n",
       "        vertical-align: middle;\n",
       "    }\n",
       "\n",
       "    .dataframe tbody tr th {\n",
       "        vertical-align: top;\n",
       "    }\n",
       "\n",
       "    .dataframe thead th {\n",
       "        text-align: right;\n",
       "    }\n",
       "</style>\n",
       "<table border=\"1\" class=\"dataframe\">\n",
       "  <thead>\n",
       "    <tr style=\"text-align: right;\">\n",
       "      <th></th>\n",
       "      <th>eng</th>\n",
       "      <th>fra</th>\n",
       "      <th>cc</th>\n",
       "    </tr>\n",
       "  </thead>\n",
       "  <tbody>\n",
       "    <tr>\n",
       "      <th>196245</th>\n",
       "      <td>An 18-year-old male is in hospital after an al...</td>\n",
       "      <td>Un jeune homme de dix-huit ans est à l'hôpital...</td>\n",
       "      <td>CC-BY 2.0 (France) Attribution: tatoeba.org #2...</td>\n",
       "    </tr>\n",
       "    <tr>\n",
       "      <th>67766</th>\n",
       "      <td>Tom watched impatiently.</td>\n",
       "      <td>Tom a regardé avec impatience.</td>\n",
       "      <td>CC-BY 2.0 (France) Attribution: tatoeba.org #2...</td>\n",
       "    </tr>\n",
       "    <tr>\n",
       "      <th>187868</th>\n",
       "      <td>How many different pieces are there in Japanes...</td>\n",
       "      <td>Combien de pièces différentes comportent les é...</td>\n",
       "      <td>CC-BY 2.0 (France) Attribution: tatoeba.org #2...</td>\n",
       "    </tr>\n",
       "    <tr>\n",
       "      <th>41357</th>\n",
       "      <td>Everyone else waited.</td>\n",
       "      <td>Toutes les autres ont attendu.</td>\n",
       "      <td>CC-BY 2.0 (France) Attribution: tatoeba.org #2...</td>\n",
       "    </tr>\n",
       "    <tr>\n",
       "      <th>163684</th>\n",
       "      <td>The old man has lived here all his life.</td>\n",
       "      <td>Le vieil homme a vécu ici toute sa vie.</td>\n",
       "      <td>CC-BY 2.0 (France) Attribution: tatoeba.org #4...</td>\n",
       "    </tr>\n",
       "  </tbody>\n",
       "</table>\n",
       "</div>"
      ],
      "text/plain": [
       "                                                      eng  \\\n",
       "196245  An 18-year-old male is in hospital after an al...   \n",
       "67766                            Tom watched impatiently.   \n",
       "187868  How many different pieces are there in Japanes...   \n",
       "41357                               Everyone else waited.   \n",
       "163684           The old man has lived here all his life.   \n",
       "\n",
       "                                                      fra  \\\n",
       "196245  Un jeune homme de dix-huit ans est à l'hôpital...   \n",
       "67766                      Tom a regardé avec impatience.   \n",
       "187868  Combien de pièces différentes comportent les é...   \n",
       "41357                      Toutes les autres ont attendu.   \n",
       "163684            Le vieil homme a vécu ici toute sa vie.   \n",
       "\n",
       "                                                       cc  \n",
       "196245  CC-BY 2.0 (France) Attribution: tatoeba.org #2...  \n",
       "67766   CC-BY 2.0 (France) Attribution: tatoeba.org #2...  \n",
       "187868  CC-BY 2.0 (France) Attribution: tatoeba.org #2...  \n",
       "41357   CC-BY 2.0 (France) Attribution: tatoeba.org #2...  \n",
       "163684  CC-BY 2.0 (France) Attribution: tatoeba.org #4...  "
      ]
     },
     "execution_count": 2,
     "metadata": {},
     "output_type": "execute_result"
    }
   ],
   "source": [
    "file_path = \"./data/fra.txt\"\n",
    "lines = pd.read_csv(file_path,names=['eng','fra','cc'],sep='\\t')\n",
    "print(\"전체 샘플의 수 : \",len(lines))\n",
    "lines.sample(5)"
   ]
  },
  {
   "cell_type": "markdown",
   "id": "f4db294f",
   "metadata": {},
   "source": [
    "### 불필요한 세번째 열 제거 & 5만개의 샘플만 사용"
   ]
  },
  {
   "cell_type": "code",
   "execution_count": 3,
   "id": "654eea45",
   "metadata": {},
   "outputs": [
    {
     "data": {
      "text/html": [
       "<div>\n",
       "<style scoped>\n",
       "    .dataframe tbody tr th:only-of-type {\n",
       "        vertical-align: middle;\n",
       "    }\n",
       "\n",
       "    .dataframe tbody tr th {\n",
       "        vertical-align: top;\n",
       "    }\n",
       "\n",
       "    .dataframe thead th {\n",
       "        text-align: right;\n",
       "    }\n",
       "</style>\n",
       "<table border=\"1\" class=\"dataframe\">\n",
       "  <thead>\n",
       "    <tr style=\"text-align: right;\">\n",
       "      <th></th>\n",
       "      <th>eng</th>\n",
       "      <th>fra</th>\n",
       "    </tr>\n",
       "  </thead>\n",
       "  <tbody>\n",
       "    <tr>\n",
       "      <th>43501</th>\n",
       "      <td>I'm a French teacher.</td>\n",
       "      <td>Je suis enseignant en français.</td>\n",
       "    </tr>\n",
       "    <tr>\n",
       "      <th>42733</th>\n",
       "      <td>I like her very much.</td>\n",
       "      <td>Je l'apprécie beaucoup.</td>\n",
       "    </tr>\n",
       "    <tr>\n",
       "      <th>22268</th>\n",
       "      <td>You were seventh.</td>\n",
       "      <td>Tu as été septième.</td>\n",
       "    </tr>\n",
       "    <tr>\n",
       "      <th>33846</th>\n",
       "      <td>You look satisfied.</td>\n",
       "      <td>Vous avez l'air satisfait.</td>\n",
       "    </tr>\n",
       "    <tr>\n",
       "      <th>19003</th>\n",
       "      <td>I never told Tom.</td>\n",
       "      <td>Je ne l’ai jamais dit à Tom.</td>\n",
       "    </tr>\n",
       "  </tbody>\n",
       "</table>\n",
       "</div>"
      ],
      "text/plain": [
       "                         eng                              fra\n",
       "43501  I'm a French teacher.  Je suis enseignant en français.\n",
       "42733  I like her very much.          Je l'apprécie beaucoup.\n",
       "22268      You were seventh.              Tu as été septième.\n",
       "33846    You look satisfied.       Vous avez l'air satisfait.\n",
       "19003      I never told Tom.     Je ne l’ai jamais dit à Tom."
      ]
     },
     "execution_count": 3,
     "metadata": {},
     "output_type": "execute_result"
    }
   ],
   "source": [
    "lines = lines[['eng','fra']][:50000]\n",
    "lines.sample(5)"
   ]
  },
  {
   "cell_type": "markdown",
   "id": "c43b7006",
   "metadata": {},
   "source": [
    "### seq2seq 동작을 위해 디코더의 입력과 예측에는 시작토큰과 종료토큰이 필요"
   ]
  },
  {
   "cell_type": "code",
   "execution_count": 4,
   "id": "9b61dab5",
   "metadata": {},
   "outputs": [
    {
     "name": "stdout",
     "output_type": "stream",
     "text": [
      "전체 샘플의 수 :  50000\n"
     ]
    },
    {
     "data": {
      "text/html": [
       "<div>\n",
       "<style scoped>\n",
       "    .dataframe tbody tr th:only-of-type {\n",
       "        vertical-align: middle;\n",
       "    }\n",
       "\n",
       "    .dataframe tbody tr th {\n",
       "        vertical-align: top;\n",
       "    }\n",
       "\n",
       "    .dataframe thead th {\n",
       "        text-align: right;\n",
       "    }\n",
       "</style>\n",
       "<table border=\"1\" class=\"dataframe\">\n",
       "  <thead>\n",
       "    <tr style=\"text-align: right;\">\n",
       "      <th></th>\n",
       "      <th>eng</th>\n",
       "      <th>fra</th>\n",
       "    </tr>\n",
       "  </thead>\n",
       "  <tbody>\n",
       "    <tr>\n",
       "      <th>9640</th>\n",
       "      <td>Are you lonely?</td>\n",
       "      <td>\\tEs-tu esseulé ?\\n</td>\n",
       "    </tr>\n",
       "    <tr>\n",
       "      <th>41436</th>\n",
       "      <td>Give me your address.</td>\n",
       "      <td>\\tDonnez-moi votre adresse !\\n</td>\n",
       "    </tr>\n",
       "    <tr>\n",
       "      <th>2854</th>\n",
       "      <td>Cook for me.</td>\n",
       "      <td>\\tCuisinez pour moi.\\n</td>\n",
       "    </tr>\n",
       "    <tr>\n",
       "      <th>26804</th>\n",
       "      <td>Tom misunderstood.</td>\n",
       "      <td>\\tTom a mal compris.\\n</td>\n",
       "    </tr>\n",
       "    <tr>\n",
       "      <th>12318</th>\n",
       "      <td>Tom stopped it.</td>\n",
       "      <td>\\tTom l'a arrêté.\\n</td>\n",
       "    </tr>\n",
       "  </tbody>\n",
       "</table>\n",
       "</div>"
      ],
      "text/plain": [
       "                         eng                             fra\n",
       "9640         Are you lonely?             \\tEs-tu esseulé ?\\n\n",
       "41436  Give me your address.  \\tDonnez-moi votre adresse !\\n\n",
       "2854            Cook for me.          \\tCuisinez pour moi.\\n\n",
       "26804     Tom misunderstood.          \\tTom a mal compris.\\n\n",
       "12318        Tom stopped it.             \\tTom l'a arrêté.\\n"
      ]
     },
     "execution_count": 4,
     "metadata": {},
     "output_type": "execute_result"
    }
   ],
   "source": [
    "sos_token = \"\\t\"\n",
    "eos_token = \"\\n\"\n",
    "lines.fra = lines.fra.apply(lambda x : '\\t' + x + '\\n')\n",
    "print(\"전체 샘플의 수 : \",len(lines))\n",
    "lines.sample(5)"
   ]
  },
  {
   "cell_type": "markdown",
   "id": "0fab93e5",
   "metadata": {},
   "source": [
    "### 각 단어에 부여된 정수로 텍스트를 정수 인코딩 해주기 "
   ]
  },
  {
   "cell_type": "code",
   "execution_count": 6,
   "id": "b602d073",
   "metadata": {},
   "outputs": [
    {
     "name": "stdout",
     "output_type": "stream",
     "text": [
      "<keras_preprocessing.text.Tokenizer object at 0x7ff284cfee50>\n"
     ]
    },
    {
     "data": {
      "text/plain": [
       "[[19, 3, 8], [19, 3, 8], [19, 3, 8]]"
      ]
     },
     "execution_count": 6,
     "metadata": {},
     "output_type": "execute_result"
    }
   ],
   "source": [
    "eng_tokenizer = Tokenizer(char_level=True)\n",
    "eng_tokenizer.fit_on_texts(lines.eng) #토큰화 수행\n",
    "input_text = eng_tokenizer.texts_to_sequences(lines.eng) #단어를 숫자 인덱스로 변경\n",
    "input_text[:3]"
   ]
  },
  {
   "cell_type": "code",
   "execution_count": 7,
   "id": "11b680ed",
   "metadata": {},
   "outputs": [
    {
     "data": {
      "text/plain": [
       "[[10, 19, 5, 1, 31, 11],\n",
       " [10, 15, 5, 12, 16, 29, 2, 14, 11],\n",
       " [10, 2, 7, 1, 12, 9, 8, 4, 2, 1, 31, 11]]"
      ]
     },
     "execution_count": 7,
     "metadata": {},
     "output_type": "execute_result"
    }
   ],
   "source": [
    "fra_tokenizer = Tokenizer(char_level=True)\n",
    "fra_tokenizer.fit_on_texts(lines.fra) #토큰화 수행\n",
    "target_text = fra_tokenizer.texts_to_sequences(lines.fra) #단어를 숫자 인덱스로 변경\n",
    "target_text[:3]"
   ]
  },
  {
   "cell_type": "markdown",
   "id": "b6c548c4",
   "metadata": {},
   "source": [
    "### 단어장의 크기를 변수로 저장해주기"
   ]
  },
  {
   "cell_type": "code",
   "execution_count": 9,
   "id": "e3b2524e",
   "metadata": {},
   "outputs": [
    {
     "name": "stdout",
     "output_type": "stream",
     "text": [
      "53 73\n"
     ]
    }
   ],
   "source": [
    "eng_vocab_size = len(eng_tokenizer.word_index)+1\n",
    "fra_vocab_size = len(fra_tokenizer.word_index)+1\n",
    "print(eng_vocab_size,fra_vocab_size)"
   ]
  },
  {
   "cell_type": "markdown",
   "id": "a854047e",
   "metadata": {},
   "source": [
    "### 데이터의 최대 길이를 구하기 -> 패딩의 크기를 설정하기 위해"
   ]
  },
  {
   "cell_type": "code",
   "execution_count": 12,
   "id": "13384c48",
   "metadata": {},
   "outputs": [
    {
     "name": "stdout",
     "output_type": "stream",
     "text": [
      "22 74\n"
     ]
    }
   ],
   "source": [
    "max_eng_seq_len = max([len(line) for line in input_text])\n",
    "max_fra_seq_len = max([len(line) for line in target_text])\n",
    "print(max_eng_seq_len,max_fra_seq_len)"
   ]
  },
  {
   "cell_type": "markdown",
   "id": "366e65f6",
   "metadata": {},
   "source": [
    "### 통계정보를 확인해보기 "
   ]
  },
  {
   "cell_type": "code",
   "execution_count": 13,
   "id": "202aeba1",
   "metadata": {},
   "outputs": [
    {
     "name": "stdout",
     "output_type": "stream",
     "text": [
      "전체 샘플의 수 : 50000\n",
      "영어 단어장의 크기 : 53\n",
      "프랑스어 단어장의 크기 : 73\n",
      "영어 시퀀스의 최대 길이 22\n",
      "프랑스어 시퀀스의 최대 길이 74\n"
     ]
    }
   ],
   "source": [
    "print('전체 샘플의 수 :',len(lines))\n",
    "print('영어 단어장의 크기 :', eng_vocab_size)\n",
    "print('프랑스어 단어장의 크기 :', fra_vocab_size)\n",
    "print('영어 시퀀스의 최대 길이', max_eng_seq_len)\n",
    "print('프랑스어 시퀀스의 최대 길이', max_fra_seq_len)"
   ]
  },
  {
   "cell_type": "markdown",
   "id": "e5d0e4b5",
   "metadata": {},
   "source": [
    "### target sequence를 두가지로 만들어주기"
   ]
  },
  {
   "cell_type": "code",
   "execution_count": 15,
   "id": "f2662792",
   "metadata": {},
   "outputs": [],
   "source": [
    "encoder_input = input_text\n",
    "# 종료 토큰 제거\n",
    "decoder_input = [[ char for char in line if char != fra_tokenizer.word_index[eos_token] ] for line in target_text] \n",
    "# 시작 토큰 제거\n",
    "decoder_target = [[ char for char in line if char != fra_tokenizer.word_index[sos_token] ] for line in target_text]"
   ]
  },
  {
   "cell_type": "code",
   "execution_count": 16,
   "id": "e870fec9",
   "metadata": {},
   "outputs": [
    {
     "name": "stdout",
     "output_type": "stream",
     "text": [
      "[[10, 19, 5, 1, 31], [10, 15, 5, 12, 16, 29, 2, 14], [10, 2, 7, 1, 12, 9, 8, 4, 2, 1, 31]]\n",
      "[[19, 5, 1, 31, 11], [15, 5, 12, 16, 29, 2, 14, 11], [2, 7, 1, 12, 9, 8, 4, 2, 1, 31, 11]]\n"
     ]
    }
   ],
   "source": [
    "print(decoder_input[:3])\n",
    "print(decoder_target[:3])"
   ]
  },
  {
   "cell_type": "markdown",
   "id": "42c83599",
   "metadata": {},
   "source": [
    "### 인코더와 디코더에 패딩 넣어주기 "
   ]
  },
  {
   "cell_type": "code",
   "execution_count": 17,
   "id": "536ebdce",
   "metadata": {},
   "outputs": [
    {
     "name": "stdout",
     "output_type": "stream",
     "text": [
      "영어 데이터의 크기(shape) : (50000, 22)\n",
      "프랑스어 입력데이터의 크기(shape) : (50000, 74)\n",
      "프랑스어 출력데이터의 크기(shape) : (50000, 74)\n"
     ]
    }
   ],
   "source": [
    "encoder_input = pad_sequences(encoder_input,maxlen=max_eng_seq_len,padding='post')\n",
    "decoder_input = pad_sequences(decoder_input,maxlen=max_fra_seq_len,padding='post')\n",
    "decoder_target = pad_sequences(decoder_target,maxlen=max_fra_seq_len,padding='post')\n",
    "print('영어 데이터의 크기(shape) :',np.shape(encoder_input))\n",
    "print('프랑스어 입력데이터의 크기(shape) :',np.shape(decoder_input))\n",
    "print('프랑스어 출력데이터의 크기(shape) :',np.shape(decoder_target))"
   ]
  },
  {
   "cell_type": "markdown",
   "id": "57c58459",
   "metadata": {},
   "source": [
    "### 정수 인코딩된 벡터들에 대해 벡터화 방법으로 원-핫 인코딩을 해주기 "
   ]
  },
  {
   "cell_type": "code",
   "execution_count": 18,
   "id": "95ea79f6",
   "metadata": {},
   "outputs": [
    {
     "name": "stdout",
     "output_type": "stream",
     "text": [
      "영어 데이터의 크기(shape) : (50000, 22, 53)\n",
      "프랑스어 입력데이터의 크기(shape) : (50000, 74, 73)\n",
      "프랑스어 출력데이터의 크기(shape) : (50000, 74, 73)\n"
     ]
    }
   ],
   "source": [
    "encoder_input = to_categorical(encoder_input)\n",
    "decoder_input=  to_categorical(decoder_input)\n",
    "decoder_target = to_categorical(decoder_target)\n",
    "print('영어 데이터의 크기(shape) :',np.shape(encoder_input))\n",
    "print('프랑스어 입력데이터의 크기(shape) :',np.shape(decoder_input))\n",
    "print('프랑스어 출력데이터의 크기(shape) :',np.shape(decoder_target))"
   ]
  },
  {
   "cell_type": "markdown",
   "id": "748572cb",
   "metadata": {},
   "source": [
    "### validation을 위한 데이터셋 나누기 "
   ]
  },
  {
   "cell_type": "code",
   "execution_count": 23,
   "id": "2cbe7bbd",
   "metadata": {},
   "outputs": [
    {
     "name": "stdout",
     "output_type": "stream",
     "text": [
      "영어 학습데이터의 크기(shape) : (3000, 22, 53)\n",
      "프랑스어 학습 입력데이터의 크기(shape) : (3000, 74, 73)\n",
      "프랑스어 학습 출력데이터의 크기(shape) : (3000, 74, 73)\n"
     ]
    }
   ],
   "source": [
    "n_of_val = 3000\n",
    "\n",
    "encoder_input_val = encoder_input[:n_of_val]\n",
    "decoder_input_val = decoder_input[:n_of_val]\n",
    "decoder_target_val = decoder_target[:n_of_val]\n",
    "\n",
    "encoder_input_train = encoder_input[n_of_val:]\n",
    "decoder_input_train = decoder_input[n_of_val:]\n",
    "decoder_target_train = decoder_target[n_of_val:]\n",
    "\n",
    "print('영어 학습데이터의 크기(shape) :',np.shape(encoder_input_val))\n",
    "print('프랑스어 학습 입력데이터의 크기(shape) :',np.shape(decoder_input_val))\n",
    "print('프랑스어 학습 출력데이터의 크기(shape) :',np.shape(decoder_target_val))\n"
   ]
  },
  {
   "cell_type": "markdown",
   "id": "17954aef",
   "metadata": {},
   "source": [
    "# 10-7. 번역기 만들기 (2) 모델 훈련하기"
   ]
  },
  {
   "cell_type": "code",
   "execution_count": 24,
   "id": "9a478351",
   "metadata": {},
   "outputs": [],
   "source": [
    "from tensorflow.keras.layers import Input, LSTM, Embedding, Dense\n",
    "from tensorflow.keras.models import Model"
   ]
  },
  {
   "cell_type": "markdown",
   "id": "7d4d2b89",
   "metadata": {},
   "source": [
    "# 10-7. 번역기 만들기 (3) 모델 테스트하기"
   ]
  }
 ],
 "metadata": {
  "kernelspec": {
   "display_name": "aiffel",
   "language": "python",
   "name": "aiffel"
  },
  "language_info": {
   "codemirror_mode": {
    "name": "ipython",
    "version": 3
   },
   "file_extension": ".py",
   "mimetype": "text/x-python",
   "name": "python",
   "nbconvert_exporter": "python",
   "pygments_lexer": "ipython3",
   "version": "3.7.15"
  }
 },
 "nbformat": 4,
 "nbformat_minor": 5
}
